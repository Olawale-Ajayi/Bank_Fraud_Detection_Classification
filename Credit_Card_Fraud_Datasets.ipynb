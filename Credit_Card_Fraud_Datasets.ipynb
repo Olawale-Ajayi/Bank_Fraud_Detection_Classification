{
 "cells": [
  {
   "cell_type": "code",
   "execution_count": 1,
   "id": "champion-joshua",
   "metadata": {},
   "outputs": [],
   "source": [
    "import pandas as pd\n",
    "import numpy as np\n",
    "import matplotlib.pyplot as plt\n",
    "import seaborn as sb\n",
    "from tensorflow import keras\n",
    "import warnings\n",
    "warnings.filterwarnings(\"ignore\")"
   ]
  },
  {
   "cell_type": "code",
   "execution_count": null,
   "id": "ruled-terrorism",
   "metadata": {},
   "outputs": [],
   "source": []
  },
  {
   "cell_type": "code",
   "execution_count": 2,
   "id": "coastal-commerce",
   "metadata": {},
   "outputs": [
    {
     "data": {
      "text/html": [
       "<div>\n",
       "<style scoped>\n",
       "    .dataframe tbody tr th:only-of-type {\n",
       "        vertical-align: middle;\n",
       "    }\n",
       "\n",
       "    .dataframe tbody tr th {\n",
       "        vertical-align: top;\n",
       "    }\n",
       "\n",
       "    .dataframe thead th {\n",
       "        text-align: right;\n",
       "    }\n",
       "</style>\n",
       "<table border=\"1\" class=\"dataframe\">\n",
       "  <thead>\n",
       "    <tr style=\"text-align: right;\">\n",
       "      <th></th>\n",
       "      <th>Time</th>\n",
       "      <th>V1</th>\n",
       "      <th>V2</th>\n",
       "      <th>V3</th>\n",
       "      <th>V4</th>\n",
       "      <th>V5</th>\n",
       "      <th>V6</th>\n",
       "      <th>V7</th>\n",
       "      <th>V8</th>\n",
       "      <th>V9</th>\n",
       "      <th>...</th>\n",
       "      <th>V21</th>\n",
       "      <th>V22</th>\n",
       "      <th>V23</th>\n",
       "      <th>V24</th>\n",
       "      <th>V25</th>\n",
       "      <th>V26</th>\n",
       "      <th>V27</th>\n",
       "      <th>V28</th>\n",
       "      <th>Amount</th>\n",
       "      <th>Class</th>\n",
       "    </tr>\n",
       "  </thead>\n",
       "  <tbody>\n",
       "    <tr>\n",
       "      <th>0</th>\n",
       "      <td>0.0</td>\n",
       "      <td>-1.359807</td>\n",
       "      <td>-0.072781</td>\n",
       "      <td>2.536347</td>\n",
       "      <td>1.378155</td>\n",
       "      <td>-0.338321</td>\n",
       "      <td>0.462388</td>\n",
       "      <td>0.239599</td>\n",
       "      <td>0.098698</td>\n",
       "      <td>0.363787</td>\n",
       "      <td>...</td>\n",
       "      <td>-0.018307</td>\n",
       "      <td>0.277838</td>\n",
       "      <td>-0.110474</td>\n",
       "      <td>0.066928</td>\n",
       "      <td>0.128539</td>\n",
       "      <td>-0.189115</td>\n",
       "      <td>0.133558</td>\n",
       "      <td>-0.021053</td>\n",
       "      <td>149.62</td>\n",
       "      <td>0</td>\n",
       "    </tr>\n",
       "    <tr>\n",
       "      <th>1</th>\n",
       "      <td>0.0</td>\n",
       "      <td>1.191857</td>\n",
       "      <td>0.266151</td>\n",
       "      <td>0.166480</td>\n",
       "      <td>0.448154</td>\n",
       "      <td>0.060018</td>\n",
       "      <td>-0.082361</td>\n",
       "      <td>-0.078803</td>\n",
       "      <td>0.085102</td>\n",
       "      <td>-0.255425</td>\n",
       "      <td>...</td>\n",
       "      <td>-0.225775</td>\n",
       "      <td>-0.638672</td>\n",
       "      <td>0.101288</td>\n",
       "      <td>-0.339846</td>\n",
       "      <td>0.167170</td>\n",
       "      <td>0.125895</td>\n",
       "      <td>-0.008983</td>\n",
       "      <td>0.014724</td>\n",
       "      <td>2.69</td>\n",
       "      <td>0</td>\n",
       "    </tr>\n",
       "    <tr>\n",
       "      <th>2</th>\n",
       "      <td>1.0</td>\n",
       "      <td>-1.358354</td>\n",
       "      <td>-1.340163</td>\n",
       "      <td>1.773209</td>\n",
       "      <td>0.379780</td>\n",
       "      <td>-0.503198</td>\n",
       "      <td>1.800499</td>\n",
       "      <td>0.791461</td>\n",
       "      <td>0.247676</td>\n",
       "      <td>-1.514654</td>\n",
       "      <td>...</td>\n",
       "      <td>0.247998</td>\n",
       "      <td>0.771679</td>\n",
       "      <td>0.909412</td>\n",
       "      <td>-0.689281</td>\n",
       "      <td>-0.327642</td>\n",
       "      <td>-0.139097</td>\n",
       "      <td>-0.055353</td>\n",
       "      <td>-0.059752</td>\n",
       "      <td>378.66</td>\n",
       "      <td>0</td>\n",
       "    </tr>\n",
       "    <tr>\n",
       "      <th>3</th>\n",
       "      <td>1.0</td>\n",
       "      <td>-0.966272</td>\n",
       "      <td>-0.185226</td>\n",
       "      <td>1.792993</td>\n",
       "      <td>-0.863291</td>\n",
       "      <td>-0.010309</td>\n",
       "      <td>1.247203</td>\n",
       "      <td>0.237609</td>\n",
       "      <td>0.377436</td>\n",
       "      <td>-1.387024</td>\n",
       "      <td>...</td>\n",
       "      <td>-0.108300</td>\n",
       "      <td>0.005274</td>\n",
       "      <td>-0.190321</td>\n",
       "      <td>-1.175575</td>\n",
       "      <td>0.647376</td>\n",
       "      <td>-0.221929</td>\n",
       "      <td>0.062723</td>\n",
       "      <td>0.061458</td>\n",
       "      <td>123.50</td>\n",
       "      <td>0</td>\n",
       "    </tr>\n",
       "    <tr>\n",
       "      <th>4</th>\n",
       "      <td>2.0</td>\n",
       "      <td>-1.158233</td>\n",
       "      <td>0.877737</td>\n",
       "      <td>1.548718</td>\n",
       "      <td>0.403034</td>\n",
       "      <td>-0.407193</td>\n",
       "      <td>0.095921</td>\n",
       "      <td>0.592941</td>\n",
       "      <td>-0.270533</td>\n",
       "      <td>0.817739</td>\n",
       "      <td>...</td>\n",
       "      <td>-0.009431</td>\n",
       "      <td>0.798278</td>\n",
       "      <td>-0.137458</td>\n",
       "      <td>0.141267</td>\n",
       "      <td>-0.206010</td>\n",
       "      <td>0.502292</td>\n",
       "      <td>0.219422</td>\n",
       "      <td>0.215153</td>\n",
       "      <td>69.99</td>\n",
       "      <td>0</td>\n",
       "    </tr>\n",
       "    <tr>\n",
       "      <th>...</th>\n",
       "      <td>...</td>\n",
       "      <td>...</td>\n",
       "      <td>...</td>\n",
       "      <td>...</td>\n",
       "      <td>...</td>\n",
       "      <td>...</td>\n",
       "      <td>...</td>\n",
       "      <td>...</td>\n",
       "      <td>...</td>\n",
       "      <td>...</td>\n",
       "      <td>...</td>\n",
       "      <td>...</td>\n",
       "      <td>...</td>\n",
       "      <td>...</td>\n",
       "      <td>...</td>\n",
       "      <td>...</td>\n",
       "      <td>...</td>\n",
       "      <td>...</td>\n",
       "      <td>...</td>\n",
       "      <td>...</td>\n",
       "      <td>...</td>\n",
       "    </tr>\n",
       "    <tr>\n",
       "      <th>284802</th>\n",
       "      <td>172786.0</td>\n",
       "      <td>-11.881118</td>\n",
       "      <td>10.071785</td>\n",
       "      <td>-9.834783</td>\n",
       "      <td>-2.066656</td>\n",
       "      <td>-5.364473</td>\n",
       "      <td>-2.606837</td>\n",
       "      <td>-4.918215</td>\n",
       "      <td>7.305334</td>\n",
       "      <td>1.914428</td>\n",
       "      <td>...</td>\n",
       "      <td>0.213454</td>\n",
       "      <td>0.111864</td>\n",
       "      <td>1.014480</td>\n",
       "      <td>-0.509348</td>\n",
       "      <td>1.436807</td>\n",
       "      <td>0.250034</td>\n",
       "      <td>0.943651</td>\n",
       "      <td>0.823731</td>\n",
       "      <td>0.77</td>\n",
       "      <td>0</td>\n",
       "    </tr>\n",
       "    <tr>\n",
       "      <th>284803</th>\n",
       "      <td>172787.0</td>\n",
       "      <td>-0.732789</td>\n",
       "      <td>-0.055080</td>\n",
       "      <td>2.035030</td>\n",
       "      <td>-0.738589</td>\n",
       "      <td>0.868229</td>\n",
       "      <td>1.058415</td>\n",
       "      <td>0.024330</td>\n",
       "      <td>0.294869</td>\n",
       "      <td>0.584800</td>\n",
       "      <td>...</td>\n",
       "      <td>0.214205</td>\n",
       "      <td>0.924384</td>\n",
       "      <td>0.012463</td>\n",
       "      <td>-1.016226</td>\n",
       "      <td>-0.606624</td>\n",
       "      <td>-0.395255</td>\n",
       "      <td>0.068472</td>\n",
       "      <td>-0.053527</td>\n",
       "      <td>24.79</td>\n",
       "      <td>0</td>\n",
       "    </tr>\n",
       "    <tr>\n",
       "      <th>284804</th>\n",
       "      <td>172788.0</td>\n",
       "      <td>1.919565</td>\n",
       "      <td>-0.301254</td>\n",
       "      <td>-3.249640</td>\n",
       "      <td>-0.557828</td>\n",
       "      <td>2.630515</td>\n",
       "      <td>3.031260</td>\n",
       "      <td>-0.296827</td>\n",
       "      <td>0.708417</td>\n",
       "      <td>0.432454</td>\n",
       "      <td>...</td>\n",
       "      <td>0.232045</td>\n",
       "      <td>0.578229</td>\n",
       "      <td>-0.037501</td>\n",
       "      <td>0.640134</td>\n",
       "      <td>0.265745</td>\n",
       "      <td>-0.087371</td>\n",
       "      <td>0.004455</td>\n",
       "      <td>-0.026561</td>\n",
       "      <td>67.88</td>\n",
       "      <td>0</td>\n",
       "    </tr>\n",
       "    <tr>\n",
       "      <th>284805</th>\n",
       "      <td>172788.0</td>\n",
       "      <td>-0.240440</td>\n",
       "      <td>0.530483</td>\n",
       "      <td>0.702510</td>\n",
       "      <td>0.689799</td>\n",
       "      <td>-0.377961</td>\n",
       "      <td>0.623708</td>\n",
       "      <td>-0.686180</td>\n",
       "      <td>0.679145</td>\n",
       "      <td>0.392087</td>\n",
       "      <td>...</td>\n",
       "      <td>0.265245</td>\n",
       "      <td>0.800049</td>\n",
       "      <td>-0.163298</td>\n",
       "      <td>0.123205</td>\n",
       "      <td>-0.569159</td>\n",
       "      <td>0.546668</td>\n",
       "      <td>0.108821</td>\n",
       "      <td>0.104533</td>\n",
       "      <td>10.00</td>\n",
       "      <td>0</td>\n",
       "    </tr>\n",
       "    <tr>\n",
       "      <th>284806</th>\n",
       "      <td>172792.0</td>\n",
       "      <td>-0.533413</td>\n",
       "      <td>-0.189733</td>\n",
       "      <td>0.703337</td>\n",
       "      <td>-0.506271</td>\n",
       "      <td>-0.012546</td>\n",
       "      <td>-0.649617</td>\n",
       "      <td>1.577006</td>\n",
       "      <td>-0.414650</td>\n",
       "      <td>0.486180</td>\n",
       "      <td>...</td>\n",
       "      <td>0.261057</td>\n",
       "      <td>0.643078</td>\n",
       "      <td>0.376777</td>\n",
       "      <td>0.008797</td>\n",
       "      <td>-0.473649</td>\n",
       "      <td>-0.818267</td>\n",
       "      <td>-0.002415</td>\n",
       "      <td>0.013649</td>\n",
       "      <td>217.00</td>\n",
       "      <td>0</td>\n",
       "    </tr>\n",
       "  </tbody>\n",
       "</table>\n",
       "<p>284807 rows × 31 columns</p>\n",
       "</div>"
      ],
      "text/plain": [
       "            Time         V1         V2        V3        V4        V5  \\\n",
       "0            0.0  -1.359807  -0.072781  2.536347  1.378155 -0.338321   \n",
       "1            0.0   1.191857   0.266151  0.166480  0.448154  0.060018   \n",
       "2            1.0  -1.358354  -1.340163  1.773209  0.379780 -0.503198   \n",
       "3            1.0  -0.966272  -0.185226  1.792993 -0.863291 -0.010309   \n",
       "4            2.0  -1.158233   0.877737  1.548718  0.403034 -0.407193   \n",
       "...          ...        ...        ...       ...       ...       ...   \n",
       "284802  172786.0 -11.881118  10.071785 -9.834783 -2.066656 -5.364473   \n",
       "284803  172787.0  -0.732789  -0.055080  2.035030 -0.738589  0.868229   \n",
       "284804  172788.0   1.919565  -0.301254 -3.249640 -0.557828  2.630515   \n",
       "284805  172788.0  -0.240440   0.530483  0.702510  0.689799 -0.377961   \n",
       "284806  172792.0  -0.533413  -0.189733  0.703337 -0.506271 -0.012546   \n",
       "\n",
       "              V6        V7        V8        V9  ...       V21       V22  \\\n",
       "0       0.462388  0.239599  0.098698  0.363787  ... -0.018307  0.277838   \n",
       "1      -0.082361 -0.078803  0.085102 -0.255425  ... -0.225775 -0.638672   \n",
       "2       1.800499  0.791461  0.247676 -1.514654  ...  0.247998  0.771679   \n",
       "3       1.247203  0.237609  0.377436 -1.387024  ... -0.108300  0.005274   \n",
       "4       0.095921  0.592941 -0.270533  0.817739  ... -0.009431  0.798278   \n",
       "...          ...       ...       ...       ...  ...       ...       ...   \n",
       "284802 -2.606837 -4.918215  7.305334  1.914428  ...  0.213454  0.111864   \n",
       "284803  1.058415  0.024330  0.294869  0.584800  ...  0.214205  0.924384   \n",
       "284804  3.031260 -0.296827  0.708417  0.432454  ...  0.232045  0.578229   \n",
       "284805  0.623708 -0.686180  0.679145  0.392087  ...  0.265245  0.800049   \n",
       "284806 -0.649617  1.577006 -0.414650  0.486180  ...  0.261057  0.643078   \n",
       "\n",
       "             V23       V24       V25       V26       V27       V28  Amount  \\\n",
       "0      -0.110474  0.066928  0.128539 -0.189115  0.133558 -0.021053  149.62   \n",
       "1       0.101288 -0.339846  0.167170  0.125895 -0.008983  0.014724    2.69   \n",
       "2       0.909412 -0.689281 -0.327642 -0.139097 -0.055353 -0.059752  378.66   \n",
       "3      -0.190321 -1.175575  0.647376 -0.221929  0.062723  0.061458  123.50   \n",
       "4      -0.137458  0.141267 -0.206010  0.502292  0.219422  0.215153   69.99   \n",
       "...          ...       ...       ...       ...       ...       ...     ...   \n",
       "284802  1.014480 -0.509348  1.436807  0.250034  0.943651  0.823731    0.77   \n",
       "284803  0.012463 -1.016226 -0.606624 -0.395255  0.068472 -0.053527   24.79   \n",
       "284804 -0.037501  0.640134  0.265745 -0.087371  0.004455 -0.026561   67.88   \n",
       "284805 -0.163298  0.123205 -0.569159  0.546668  0.108821  0.104533   10.00   \n",
       "284806  0.376777  0.008797 -0.473649 -0.818267 -0.002415  0.013649  217.00   \n",
       "\n",
       "        Class  \n",
       "0           0  \n",
       "1           0  \n",
       "2           0  \n",
       "3           0  \n",
       "4           0  \n",
       "...       ...  \n",
       "284802      0  \n",
       "284803      0  \n",
       "284804      0  \n",
       "284805      0  \n",
       "284806      0  \n",
       "\n",
       "[284807 rows x 31 columns]"
      ]
     },
     "execution_count": 2,
     "metadata": {},
     "output_type": "execute_result"
    }
   ],
   "source": [
    "Datasets = pd.read_csv(\"C:/Users/admin/Desktop/project/Credit_Card_Fraud_Detection/creditcard.csv\")\n",
    "Datasets"
   ]
  },
  {
   "cell_type": "markdown",
   "id": "static-damage",
   "metadata": {},
   "source": [
    "# Information regarding this datasets sourced from kaggle:\n",
    "\n",
    "The datasets are confidential from an unnamed banks. The columns coded from VI to V28 are coded to keep vital informatons related to the bank transaction and are scaled accordingly.\n",
    "\n",
    "Only the time and the amount columns are not scaled"
   ]
  },
  {
   "cell_type": "code",
   "execution_count": 3,
   "id": "different-eugene",
   "metadata": {},
   "outputs": [
    {
     "data": {
      "text/plain": [
       "0    284315\n",
       "1       492\n",
       "Name: Class, dtype: int64"
      ]
     },
     "execution_count": 3,
     "metadata": {},
     "output_type": "execute_result"
    }
   ],
   "source": [
    "Datasets[\"Class\"].value_counts()"
   ]
  },
  {
   "cell_type": "code",
   "execution_count": null,
   "id": "informative-solution",
   "metadata": {},
   "outputs": [],
   "source": []
  },
  {
   "cell_type": "code",
   "execution_count": null,
   "id": "certain-fossil",
   "metadata": {},
   "outputs": [],
   "source": []
  },
  {
   "cell_type": "markdown",
   "id": "intelligent-parcel",
   "metadata": {},
   "source": [
    "# Data Exploratory analysis"
   ]
  },
  {
   "cell_type": "code",
   "execution_count": 4,
   "id": "several-wagner",
   "metadata": {},
   "outputs": [],
   "source": [
    "pd.options.display.float_format = '{:.2f}'.format"
   ]
  },
  {
   "cell_type": "code",
   "execution_count": 5,
   "id": "hybrid-protein",
   "metadata": {},
   "outputs": [
    {
     "data": {
      "text/html": [
       "<div>\n",
       "<style scoped>\n",
       "    .dataframe tbody tr th:only-of-type {\n",
       "        vertical-align: middle;\n",
       "    }\n",
       "\n",
       "    .dataframe tbody tr th {\n",
       "        vertical-align: top;\n",
       "    }\n",
       "\n",
       "    .dataframe thead th {\n",
       "        text-align: right;\n",
       "    }\n",
       "</style>\n",
       "<table border=\"1\" class=\"dataframe\">\n",
       "  <thead>\n",
       "    <tr style=\"text-align: right;\">\n",
       "      <th></th>\n",
       "      <th>Time</th>\n",
       "      <th>V1</th>\n",
       "      <th>V2</th>\n",
       "      <th>V3</th>\n",
       "      <th>V4</th>\n",
       "      <th>V5</th>\n",
       "      <th>V6</th>\n",
       "      <th>V7</th>\n",
       "      <th>V8</th>\n",
       "      <th>V9</th>\n",
       "      <th>...</th>\n",
       "      <th>V21</th>\n",
       "      <th>V22</th>\n",
       "      <th>V23</th>\n",
       "      <th>V24</th>\n",
       "      <th>V25</th>\n",
       "      <th>V26</th>\n",
       "      <th>V27</th>\n",
       "      <th>V28</th>\n",
       "      <th>Amount</th>\n",
       "      <th>Class</th>\n",
       "    </tr>\n",
       "  </thead>\n",
       "  <tbody>\n",
       "    <tr>\n",
       "      <th>count</th>\n",
       "      <td>284807.00</td>\n",
       "      <td>284807.00</td>\n",
       "      <td>284807.00</td>\n",
       "      <td>284807.00</td>\n",
       "      <td>284807.00</td>\n",
       "      <td>284807.00</td>\n",
       "      <td>284807.00</td>\n",
       "      <td>284807.00</td>\n",
       "      <td>284807.00</td>\n",
       "      <td>284807.00</td>\n",
       "      <td>...</td>\n",
       "      <td>284807.00</td>\n",
       "      <td>284807.00</td>\n",
       "      <td>284807.00</td>\n",
       "      <td>284807.00</td>\n",
       "      <td>284807.00</td>\n",
       "      <td>284807.00</td>\n",
       "      <td>284807.00</td>\n",
       "      <td>284807.00</td>\n",
       "      <td>284807.00</td>\n",
       "      <td>284807.00</td>\n",
       "    </tr>\n",
       "    <tr>\n",
       "      <th>mean</th>\n",
       "      <td>94813.86</td>\n",
       "      <td>0.00</td>\n",
       "      <td>-0.00</td>\n",
       "      <td>-0.00</td>\n",
       "      <td>0.00</td>\n",
       "      <td>0.00</td>\n",
       "      <td>0.00</td>\n",
       "      <td>-0.00</td>\n",
       "      <td>0.00</td>\n",
       "      <td>-0.00</td>\n",
       "      <td>...</td>\n",
       "      <td>-0.00</td>\n",
       "      <td>-0.00</td>\n",
       "      <td>-0.00</td>\n",
       "      <td>0.00</td>\n",
       "      <td>-0.00</td>\n",
       "      <td>-0.00</td>\n",
       "      <td>0.00</td>\n",
       "      <td>-0.00</td>\n",
       "      <td>88.35</td>\n",
       "      <td>0.00</td>\n",
       "    </tr>\n",
       "    <tr>\n",
       "      <th>std</th>\n",
       "      <td>47488.15</td>\n",
       "      <td>1.96</td>\n",
       "      <td>1.65</td>\n",
       "      <td>1.52</td>\n",
       "      <td>1.42</td>\n",
       "      <td>1.38</td>\n",
       "      <td>1.33</td>\n",
       "      <td>1.24</td>\n",
       "      <td>1.19</td>\n",
       "      <td>1.10</td>\n",
       "      <td>...</td>\n",
       "      <td>0.73</td>\n",
       "      <td>0.73</td>\n",
       "      <td>0.62</td>\n",
       "      <td>0.61</td>\n",
       "      <td>0.52</td>\n",
       "      <td>0.48</td>\n",
       "      <td>0.40</td>\n",
       "      <td>0.33</td>\n",
       "      <td>250.12</td>\n",
       "      <td>0.04</td>\n",
       "    </tr>\n",
       "    <tr>\n",
       "      <th>min</th>\n",
       "      <td>0.00</td>\n",
       "      <td>-56.41</td>\n",
       "      <td>-72.72</td>\n",
       "      <td>-48.33</td>\n",
       "      <td>-5.68</td>\n",
       "      <td>-113.74</td>\n",
       "      <td>-26.16</td>\n",
       "      <td>-43.56</td>\n",
       "      <td>-73.22</td>\n",
       "      <td>-13.43</td>\n",
       "      <td>...</td>\n",
       "      <td>-34.83</td>\n",
       "      <td>-10.93</td>\n",
       "      <td>-44.81</td>\n",
       "      <td>-2.84</td>\n",
       "      <td>-10.30</td>\n",
       "      <td>-2.60</td>\n",
       "      <td>-22.57</td>\n",
       "      <td>-15.43</td>\n",
       "      <td>0.00</td>\n",
       "      <td>0.00</td>\n",
       "    </tr>\n",
       "    <tr>\n",
       "      <th>25%</th>\n",
       "      <td>54201.50</td>\n",
       "      <td>-0.92</td>\n",
       "      <td>-0.60</td>\n",
       "      <td>-0.89</td>\n",
       "      <td>-0.85</td>\n",
       "      <td>-0.69</td>\n",
       "      <td>-0.77</td>\n",
       "      <td>-0.55</td>\n",
       "      <td>-0.21</td>\n",
       "      <td>-0.64</td>\n",
       "      <td>...</td>\n",
       "      <td>-0.23</td>\n",
       "      <td>-0.54</td>\n",
       "      <td>-0.16</td>\n",
       "      <td>-0.35</td>\n",
       "      <td>-0.32</td>\n",
       "      <td>-0.33</td>\n",
       "      <td>-0.07</td>\n",
       "      <td>-0.05</td>\n",
       "      <td>5.60</td>\n",
       "      <td>0.00</td>\n",
       "    </tr>\n",
       "    <tr>\n",
       "      <th>50%</th>\n",
       "      <td>84692.00</td>\n",
       "      <td>0.02</td>\n",
       "      <td>0.07</td>\n",
       "      <td>0.18</td>\n",
       "      <td>-0.02</td>\n",
       "      <td>-0.05</td>\n",
       "      <td>-0.27</td>\n",
       "      <td>0.04</td>\n",
       "      <td>0.02</td>\n",
       "      <td>-0.05</td>\n",
       "      <td>...</td>\n",
       "      <td>-0.03</td>\n",
       "      <td>0.01</td>\n",
       "      <td>-0.01</td>\n",
       "      <td>0.04</td>\n",
       "      <td>0.02</td>\n",
       "      <td>-0.05</td>\n",
       "      <td>0.00</td>\n",
       "      <td>0.01</td>\n",
       "      <td>22.00</td>\n",
       "      <td>0.00</td>\n",
       "    </tr>\n",
       "    <tr>\n",
       "      <th>75%</th>\n",
       "      <td>139320.50</td>\n",
       "      <td>1.32</td>\n",
       "      <td>0.80</td>\n",
       "      <td>1.03</td>\n",
       "      <td>0.74</td>\n",
       "      <td>0.61</td>\n",
       "      <td>0.40</td>\n",
       "      <td>0.57</td>\n",
       "      <td>0.33</td>\n",
       "      <td>0.60</td>\n",
       "      <td>...</td>\n",
       "      <td>0.19</td>\n",
       "      <td>0.53</td>\n",
       "      <td>0.15</td>\n",
       "      <td>0.44</td>\n",
       "      <td>0.35</td>\n",
       "      <td>0.24</td>\n",
       "      <td>0.09</td>\n",
       "      <td>0.08</td>\n",
       "      <td>77.16</td>\n",
       "      <td>0.00</td>\n",
       "    </tr>\n",
       "    <tr>\n",
       "      <th>max</th>\n",
       "      <td>172792.00</td>\n",
       "      <td>2.45</td>\n",
       "      <td>22.06</td>\n",
       "      <td>9.38</td>\n",
       "      <td>16.88</td>\n",
       "      <td>34.80</td>\n",
       "      <td>73.30</td>\n",
       "      <td>120.59</td>\n",
       "      <td>20.01</td>\n",
       "      <td>15.59</td>\n",
       "      <td>...</td>\n",
       "      <td>27.20</td>\n",
       "      <td>10.50</td>\n",
       "      <td>22.53</td>\n",
       "      <td>4.58</td>\n",
       "      <td>7.52</td>\n",
       "      <td>3.52</td>\n",
       "      <td>31.61</td>\n",
       "      <td>33.85</td>\n",
       "      <td>25691.16</td>\n",
       "      <td>1.00</td>\n",
       "    </tr>\n",
       "  </tbody>\n",
       "</table>\n",
       "<p>8 rows × 31 columns</p>\n",
       "</div>"
      ],
      "text/plain": [
       "           Time        V1        V2        V3        V4        V5        V6  \\\n",
       "count 284807.00 284807.00 284807.00 284807.00 284807.00 284807.00 284807.00   \n",
       "mean   94813.86      0.00     -0.00     -0.00      0.00      0.00      0.00   \n",
       "std    47488.15      1.96      1.65      1.52      1.42      1.38      1.33   \n",
       "min        0.00    -56.41    -72.72    -48.33     -5.68   -113.74    -26.16   \n",
       "25%    54201.50     -0.92     -0.60     -0.89     -0.85     -0.69     -0.77   \n",
       "50%    84692.00      0.02      0.07      0.18     -0.02     -0.05     -0.27   \n",
       "75%   139320.50      1.32      0.80      1.03      0.74      0.61      0.40   \n",
       "max   172792.00      2.45     22.06      9.38     16.88     34.80     73.30   \n",
       "\n",
       "             V7        V8        V9  ...       V21       V22       V23  \\\n",
       "count 284807.00 284807.00 284807.00  ... 284807.00 284807.00 284807.00   \n",
       "mean      -0.00      0.00     -0.00  ...     -0.00     -0.00     -0.00   \n",
       "std        1.24      1.19      1.10  ...      0.73      0.73      0.62   \n",
       "min      -43.56    -73.22    -13.43  ...    -34.83    -10.93    -44.81   \n",
       "25%       -0.55     -0.21     -0.64  ...     -0.23     -0.54     -0.16   \n",
       "50%        0.04      0.02     -0.05  ...     -0.03      0.01     -0.01   \n",
       "75%        0.57      0.33      0.60  ...      0.19      0.53      0.15   \n",
       "max      120.59     20.01     15.59  ...     27.20     10.50     22.53   \n",
       "\n",
       "            V24       V25       V26       V27       V28    Amount     Class  \n",
       "count 284807.00 284807.00 284807.00 284807.00 284807.00 284807.00 284807.00  \n",
       "mean       0.00     -0.00     -0.00      0.00     -0.00     88.35      0.00  \n",
       "std        0.61      0.52      0.48      0.40      0.33    250.12      0.04  \n",
       "min       -2.84    -10.30     -2.60    -22.57    -15.43      0.00      0.00  \n",
       "25%       -0.35     -0.32     -0.33     -0.07     -0.05      5.60      0.00  \n",
       "50%        0.04      0.02     -0.05      0.00      0.01     22.00      0.00  \n",
       "75%        0.44      0.35      0.24      0.09      0.08     77.16      0.00  \n",
       "max        4.58      7.52      3.52     31.61     33.85  25691.16      1.00  \n",
       "\n",
       "[8 rows x 31 columns]"
      ]
     },
     "execution_count": 5,
     "metadata": {},
     "output_type": "execute_result"
    }
   ],
   "source": [
    "Datasets.describe()"
   ]
  },
  {
   "cell_type": "code",
   "execution_count": null,
   "id": "hungarian-chemical",
   "metadata": {},
   "outputs": [],
   "source": []
  },
  {
   "cell_type": "code",
   "execution_count": 6,
   "id": "horizontal-durham",
   "metadata": {},
   "outputs": [
    {
     "data": {
      "text/plain": [
       "Time      0\n",
       "V1        0\n",
       "V2        0\n",
       "V3        0\n",
       "V4        0\n",
       "V5        0\n",
       "V6        0\n",
       "V7        0\n",
       "V8        0\n",
       "V9        0\n",
       "V10       0\n",
       "V11       0\n",
       "V12       0\n",
       "V13       0\n",
       "V14       0\n",
       "V15       0\n",
       "V16       0\n",
       "V17       0\n",
       "V18       0\n",
       "V19       0\n",
       "V20       0\n",
       "V21       0\n",
       "V22       0\n",
       "V23       0\n",
       "V24       0\n",
       "V25       0\n",
       "V26       0\n",
       "V27       0\n",
       "V28       0\n",
       "Amount    0\n",
       "Class     0\n",
       "dtype: int64"
      ]
     },
     "execution_count": 6,
     "metadata": {},
     "output_type": "execute_result"
    }
   ],
   "source": [
    "Datasets.isnull().sum()  #  clearly, there is no missing values"
   ]
  },
  {
   "cell_type": "code",
   "execution_count": 7,
   "id": "noted-newark",
   "metadata": {},
   "outputs": [
    {
     "name": "stdout",
     "output_type": "stream",
     "text": [
      "<class 'pandas.core.frame.DataFrame'>\n",
      "RangeIndex: 284807 entries, 0 to 284806\n",
      "Data columns (total 31 columns):\n",
      " #   Column  Non-Null Count   Dtype  \n",
      "---  ------  --------------   -----  \n",
      " 0   Time    284807 non-null  float64\n",
      " 1   V1      284807 non-null  float64\n",
      " 2   V2      284807 non-null  float64\n",
      " 3   V3      284807 non-null  float64\n",
      " 4   V4      284807 non-null  float64\n",
      " 5   V5      284807 non-null  float64\n",
      " 6   V6      284807 non-null  float64\n",
      " 7   V7      284807 non-null  float64\n",
      " 8   V8      284807 non-null  float64\n",
      " 9   V9      284807 non-null  float64\n",
      " 10  V10     284807 non-null  float64\n",
      " 11  V11     284807 non-null  float64\n",
      " 12  V12     284807 non-null  float64\n",
      " 13  V13     284807 non-null  float64\n",
      " 14  V14     284807 non-null  float64\n",
      " 15  V15     284807 non-null  float64\n",
      " 16  V16     284807 non-null  float64\n",
      " 17  V17     284807 non-null  float64\n",
      " 18  V18     284807 non-null  float64\n",
      " 19  V19     284807 non-null  float64\n",
      " 20  V20     284807 non-null  float64\n",
      " 21  V21     284807 non-null  float64\n",
      " 22  V22     284807 non-null  float64\n",
      " 23  V23     284807 non-null  float64\n",
      " 24  V24     284807 non-null  float64\n",
      " 25  V25     284807 non-null  float64\n",
      " 26  V26     284807 non-null  float64\n",
      " 27  V27     284807 non-null  float64\n",
      " 28  V28     284807 non-null  float64\n",
      " 29  Amount  284807 non-null  float64\n",
      " 30  Class   284807 non-null  int64  \n",
      "dtypes: float64(30), int64(1)\n",
      "memory usage: 67.4 MB\n"
     ]
    }
   ],
   "source": [
    " Datasets.info()  # We have 29 featuters columns and 1 target column"
   ]
  },
  {
   "cell_type": "code",
   "execution_count": 8,
   "id": "about-insulation",
   "metadata": {},
   "outputs": [],
   "source": [
    "# Chekcing the percentage distribution of the target columns for imbalance data"
   ]
  },
  {
   "cell_type": "code",
   "execution_count": 8,
   "id": "complex-education",
   "metadata": {},
   "outputs": [
    {
     "data": {
      "text/plain": [
       "No Fraud   99.83\n",
       "Fraud       0.17\n",
       "Name: Class, dtype: float64"
      ]
     },
     "execution_count": 8,
     "metadata": {},
     "output_type": "execute_result"
    }
   ],
   "source": [
    "\n",
    "\n",
    "target = {0: \"No Fraud\",\n",
    "         1:\"Fraud\"}\n",
    "Data = Datasets.copy()\n",
    "Data[\"Class\"].map(target).value_counts(normalize = True)*100\n",
    "\n",
    "\n",
    "# cLearly, this target are clearly unevenly distributed.\n",
    "# The inmbalance data needed to be balnace by Resamoling\n",
    "\n",
    "# over 99% of the target data are non fraud transaction"
   ]
  },
  {
   "cell_type": "code",
   "execution_count": null,
   "id": "sapphire-livestock",
   "metadata": {},
   "outputs": [],
   "source": []
  },
  {
   "cell_type": "markdown",
   "id": "premier-astronomy",
   "metadata": {},
   "source": [
    "# Exploratry Data analysis"
   ]
  },
  {
   "cell_type": "code",
   "execution_count": null,
   "id": "centered-digit",
   "metadata": {},
   "outputs": [],
   "source": []
  },
  {
   "cell_type": "code",
   "execution_count": 11,
   "id": "detailed-thesis",
   "metadata": {},
   "outputs": [],
   "source": [
    "# Using countplot to see the distribution of the imbalance data"
   ]
  },
  {
   "cell_type": "code",
   "execution_count": 9,
   "id": "aerial-pastor",
   "metadata": {},
   "outputs": [
    {
     "data": {
      "text/plain": [
       "<AxesSubplot:xlabel='Class', ylabel='count'>"
      ]
     },
     "execution_count": 9,
     "metadata": {},
     "output_type": "execute_result"
    },
    {
     "data": {
      "image/png": "[encoded data removed]",
      "text/plain": [
       "<Figure size 432x288 with 1 Axes>"
      ]
     },
     "metadata": {
      "needs_background": "light"
     },
     "output_type": "display_data"
    }
   ],
   "source": [
    "sb.countplot(data = Datasets, x = \"Class\")\n",
    "\n",
    "# This shows an imbalance distribution in our data and this will overfit and affect the model prediction"
   ]
  },
  {
   "cell_type": "code",
   "execution_count": 10,
   "id": "lightweight-phoenix",
   "metadata": {},
   "outputs": [
    {
     "data": {
      "text/plain": [
       "<AxesSubplot:xlabel='V19', ylabel='Density'>"
      ]
     },
     "execution_count": 10,
     "metadata": {},
     "output_type": "execute_result"
    },
    {
     "data": {
      "image/png": "[encoded data removed]",
      "text/plain": [
       "<Figure size 432x288 with 1 Axes>"
      ]
     },
     "metadata": {
      "needs_background": "light"
     },
     "output_type": "display_data"
    }
   ],
   "source": [
    "sb.distplot(Datasets[\"V19\"])"
   ]
  },
  {
   "cell_type": "code",
   "execution_count": 11,
   "id": "neural-maker",
   "metadata": {},
   "outputs": [
    {
     "data": {
      "text/plain": [
       "<AxesSubplot:xlabel='V17', ylabel='Density'>"
      ]
     },
     "execution_count": 11,
     "metadata": {},
     "output_type": "execute_result"
    },
    {
     "data": {
      "image/png": "[encoded data removed]",
      "text/plain": [
       "<Figure size 432x288 with 1 Axes>"
      ]
     },
     "metadata": {
      "needs_background": "light"
     },
     "output_type": "display_data"
    }
   ],
   "source": [
    "sb.distplot(Datasets[\"V17\"])"
   ]
  },
  {
   "cell_type": "code",
   "execution_count": 12,
   "id": "daily-liberty",
   "metadata": {},
   "outputs": [
    {
     "data": {
      "text/plain": [
       "<AxesSubplot:xlabel='V10', ylabel='Density'>"
      ]
     },
     "execution_count": 12,
     "metadata": {},
     "output_type": "execute_result"
    },
    {
     "data": {
      "image/png": "[encoded data removed]",
      "text/plain": [
       "<Figure size 432x288 with 1 Axes>"
      ]
     },
     "metadata": {
      "needs_background": "light"
     },
     "output_type": "display_data"
    }
   ],
   "source": [
    "sb.distplot(Datasets[\"V10\"])"
   ]
  },
  {
   "cell_type": "code",
   "execution_count": null,
   "id": "stainless-journey",
   "metadata": {},
   "outputs": [],
   "source": []
  },
  {
   "cell_type": "code",
   "execution_count": null,
   "id": "changing-ballet",
   "metadata": {},
   "outputs": [],
   "source": []
  },
  {
   "cell_type": "code",
   "execution_count": 13,
   "id": "controlling-inspection",
   "metadata": {},
   "outputs": [
    {
     "data": {
      "image/png": "[encoded data removed]",
      "text/plain": [
       "<Figure size 1050x700 with 2 Axes>"
      ]
     },
     "metadata": {
      "needs_background": "light"
     },
     "output_type": "display_data"
    }
   ],
   "source": [
    "fig, axes = plt.subplots(nrows = 1,  ncols = 2, dpi = 70, figsize = (15,10))\n",
    "sb.distplot(Datasets[\"Time\"],  ax = axes[0], kde = True, color = \"g\")\n",
    "axes[0].set_title(\"Distribution of Transaction Time\", size = 14)\n",
    "\n",
    "sb.distplot(Datasets[\"Amount\"],  ax = axes[1], kde = True, color = \"pink\")\n",
    "axes[1].set_title(\"Distribution of Transaction Amount\", size = 14)\n",
    "\n",
    "axes[0].ticklabel_format(style='plain') \n",
    "\n",
    "\n",
    "\n",
    "\n",
    "#The distribution for both density Amount and Time is spearsely disributed following a normal distribution"
   ]
  },
  {
   "cell_type": "code",
   "execution_count": 14,
   "id": "distinct-tattoo",
   "metadata": {},
   "outputs": [
    {
     "data": {
      "text/html": [
       "<div>\n",
       "<style scoped>\n",
       "    .dataframe tbody tr th:only-of-type {\n",
       "        vertical-align: middle;\n",
       "    }\n",
       "\n",
       "    .dataframe tbody tr th {\n",
       "        vertical-align: top;\n",
       "    }\n",
       "\n",
       "    .dataframe thead th {\n",
       "        text-align: right;\n",
       "    }\n",
       "</style>\n",
       "<table border=\"1\" class=\"dataframe\">\n",
       "  <thead>\n",
       "    <tr style=\"text-align: right;\">\n",
       "      <th></th>\n",
       "      <th>Time</th>\n",
       "      <th>V1</th>\n",
       "      <th>V2</th>\n",
       "      <th>V3</th>\n",
       "      <th>V4</th>\n",
       "      <th>V5</th>\n",
       "      <th>V6</th>\n",
       "      <th>V7</th>\n",
       "      <th>V8</th>\n",
       "      <th>V9</th>\n",
       "      <th>...</th>\n",
       "      <th>V21</th>\n",
       "      <th>V22</th>\n",
       "      <th>V23</th>\n",
       "      <th>V24</th>\n",
       "      <th>V25</th>\n",
       "      <th>V26</th>\n",
       "      <th>V27</th>\n",
       "      <th>V28</th>\n",
       "      <th>Amount</th>\n",
       "      <th>Class</th>\n",
       "    </tr>\n",
       "  </thead>\n",
       "  <tbody>\n",
       "    <tr>\n",
       "      <th>0</th>\n",
       "      <td>-2.00</td>\n",
       "      <td>-1.36</td>\n",
       "      <td>-0.07</td>\n",
       "      <td>2.54</td>\n",
       "      <td>1.38</td>\n",
       "      <td>-0.34</td>\n",
       "      <td>0.46</td>\n",
       "      <td>0.24</td>\n",
       "      <td>0.10</td>\n",
       "      <td>0.36</td>\n",
       "      <td>...</td>\n",
       "      <td>-0.02</td>\n",
       "      <td>0.28</td>\n",
       "      <td>-0.11</td>\n",
       "      <td>0.07</td>\n",
       "      <td>0.13</td>\n",
       "      <td>-0.19</td>\n",
       "      <td>0.13</td>\n",
       "      <td>-0.02</td>\n",
       "      <td>0.24</td>\n",
       "      <td>0</td>\n",
       "    </tr>\n",
       "    <tr>\n",
       "      <th>1</th>\n",
       "      <td>-2.00</td>\n",
       "      <td>1.19</td>\n",
       "      <td>0.27</td>\n",
       "      <td>0.17</td>\n",
       "      <td>0.45</td>\n",
       "      <td>0.06</td>\n",
       "      <td>-0.08</td>\n",
       "      <td>-0.08</td>\n",
       "      <td>0.09</td>\n",
       "      <td>-0.26</td>\n",
       "      <td>...</td>\n",
       "      <td>-0.23</td>\n",
       "      <td>-0.64</td>\n",
       "      <td>0.10</td>\n",
       "      <td>-0.34</td>\n",
       "      <td>0.17</td>\n",
       "      <td>0.13</td>\n",
       "      <td>-0.01</td>\n",
       "      <td>0.01</td>\n",
       "      <td>-0.34</td>\n",
       "      <td>0</td>\n",
       "    </tr>\n",
       "    <tr>\n",
       "      <th>2</th>\n",
       "      <td>-2.00</td>\n",
       "      <td>-1.36</td>\n",
       "      <td>-1.34</td>\n",
       "      <td>1.77</td>\n",
       "      <td>0.38</td>\n",
       "      <td>-0.50</td>\n",
       "      <td>1.80</td>\n",
       "      <td>0.79</td>\n",
       "      <td>0.25</td>\n",
       "      <td>-1.51</td>\n",
       "      <td>...</td>\n",
       "      <td>0.25</td>\n",
       "      <td>0.77</td>\n",
       "      <td>0.91</td>\n",
       "      <td>-0.69</td>\n",
       "      <td>-0.33</td>\n",
       "      <td>-0.14</td>\n",
       "      <td>-0.06</td>\n",
       "      <td>-0.06</td>\n",
       "      <td>1.16</td>\n",
       "      <td>0</td>\n",
       "    </tr>\n",
       "    <tr>\n",
       "      <th>3</th>\n",
       "      <td>-2.00</td>\n",
       "      <td>-0.97</td>\n",
       "      <td>-0.19</td>\n",
       "      <td>1.79</td>\n",
       "      <td>-0.86</td>\n",
       "      <td>-0.01</td>\n",
       "      <td>1.25</td>\n",
       "      <td>0.24</td>\n",
       "      <td>0.38</td>\n",
       "      <td>-1.39</td>\n",
       "      <td>...</td>\n",
       "      <td>-0.11</td>\n",
       "      <td>0.01</td>\n",
       "      <td>-0.19</td>\n",
       "      <td>-1.18</td>\n",
       "      <td>0.65</td>\n",
       "      <td>-0.22</td>\n",
       "      <td>0.06</td>\n",
       "      <td>0.06</td>\n",
       "      <td>0.14</td>\n",
       "      <td>0</td>\n",
       "    </tr>\n",
       "    <tr>\n",
       "      <th>4</th>\n",
       "      <td>-2.00</td>\n",
       "      <td>-1.16</td>\n",
       "      <td>0.88</td>\n",
       "      <td>1.55</td>\n",
       "      <td>0.40</td>\n",
       "      <td>-0.41</td>\n",
       "      <td>0.10</td>\n",
       "      <td>0.59</td>\n",
       "      <td>-0.27</td>\n",
       "      <td>0.82</td>\n",
       "      <td>...</td>\n",
       "      <td>-0.01</td>\n",
       "      <td>0.80</td>\n",
       "      <td>-0.14</td>\n",
       "      <td>0.14</td>\n",
       "      <td>-0.21</td>\n",
       "      <td>0.50</td>\n",
       "      <td>0.22</td>\n",
       "      <td>0.22</td>\n",
       "      <td>-0.07</td>\n",
       "      <td>0</td>\n",
       "    </tr>\n",
       "    <tr>\n",
       "      <th>...</th>\n",
       "      <td>...</td>\n",
       "      <td>...</td>\n",
       "      <td>...</td>\n",
       "      <td>...</td>\n",
       "      <td>...</td>\n",
       "      <td>...</td>\n",
       "      <td>...</td>\n",
       "      <td>...</td>\n",
       "      <td>...</td>\n",
       "      <td>...</td>\n",
       "      <td>...</td>\n",
       "      <td>...</td>\n",
       "      <td>...</td>\n",
       "      <td>...</td>\n",
       "      <td>...</td>\n",
       "      <td>...</td>\n",
       "      <td>...</td>\n",
       "      <td>...</td>\n",
       "      <td>...</td>\n",
       "      <td>...</td>\n",
       "      <td>...</td>\n",
       "    </tr>\n",
       "    <tr>\n",
       "      <th>284802</th>\n",
       "      <td>1.64</td>\n",
       "      <td>-11.88</td>\n",
       "      <td>10.07</td>\n",
       "      <td>-9.83</td>\n",
       "      <td>-2.07</td>\n",
       "      <td>-5.36</td>\n",
       "      <td>-2.61</td>\n",
       "      <td>-4.92</td>\n",
       "      <td>7.31</td>\n",
       "      <td>1.91</td>\n",
       "      <td>...</td>\n",
       "      <td>0.21</td>\n",
       "      <td>0.11</td>\n",
       "      <td>1.01</td>\n",
       "      <td>-0.51</td>\n",
       "      <td>1.44</td>\n",
       "      <td>0.25</td>\n",
       "      <td>0.94</td>\n",
       "      <td>0.82</td>\n",
       "      <td>-0.35</td>\n",
       "      <td>0</td>\n",
       "    </tr>\n",
       "    <tr>\n",
       "      <th>284803</th>\n",
       "      <td>1.64</td>\n",
       "      <td>-0.73</td>\n",
       "      <td>-0.06</td>\n",
       "      <td>2.04</td>\n",
       "      <td>-0.74</td>\n",
       "      <td>0.87</td>\n",
       "      <td>1.06</td>\n",
       "      <td>0.02</td>\n",
       "      <td>0.29</td>\n",
       "      <td>0.58</td>\n",
       "      <td>...</td>\n",
       "      <td>0.21</td>\n",
       "      <td>0.92</td>\n",
       "      <td>0.01</td>\n",
       "      <td>-1.02</td>\n",
       "      <td>-0.61</td>\n",
       "      <td>-0.40</td>\n",
       "      <td>0.07</td>\n",
       "      <td>-0.05</td>\n",
       "      <td>-0.25</td>\n",
       "      <td>0</td>\n",
       "    </tr>\n",
       "    <tr>\n",
       "      <th>284804</th>\n",
       "      <td>1.64</td>\n",
       "      <td>1.92</td>\n",
       "      <td>-0.30</td>\n",
       "      <td>-3.25</td>\n",
       "      <td>-0.56</td>\n",
       "      <td>2.63</td>\n",
       "      <td>3.03</td>\n",
       "      <td>-0.30</td>\n",
       "      <td>0.71</td>\n",
       "      <td>0.43</td>\n",
       "      <td>...</td>\n",
       "      <td>0.23</td>\n",
       "      <td>0.58</td>\n",
       "      <td>-0.04</td>\n",
       "      <td>0.64</td>\n",
       "      <td>0.27</td>\n",
       "      <td>-0.09</td>\n",
       "      <td>0.00</td>\n",
       "      <td>-0.03</td>\n",
       "      <td>-0.08</td>\n",
       "      <td>0</td>\n",
       "    </tr>\n",
       "    <tr>\n",
       "      <th>284805</th>\n",
       "      <td>1.64</td>\n",
       "      <td>-0.24</td>\n",
       "      <td>0.53</td>\n",
       "      <td>0.70</td>\n",
       "      <td>0.69</td>\n",
       "      <td>-0.38</td>\n",
       "      <td>0.62</td>\n",
       "      <td>-0.69</td>\n",
       "      <td>0.68</td>\n",
       "      <td>0.39</td>\n",
       "      <td>...</td>\n",
       "      <td>0.27</td>\n",
       "      <td>0.80</td>\n",
       "      <td>-0.16</td>\n",
       "      <td>0.12</td>\n",
       "      <td>-0.57</td>\n",
       "      <td>0.55</td>\n",
       "      <td>0.11</td>\n",
       "      <td>0.10</td>\n",
       "      <td>-0.31</td>\n",
       "      <td>0</td>\n",
       "    </tr>\n",
       "    <tr>\n",
       "      <th>284806</th>\n",
       "      <td>1.64</td>\n",
       "      <td>-0.53</td>\n",
       "      <td>-0.19</td>\n",
       "      <td>0.70</td>\n",
       "      <td>-0.51</td>\n",
       "      <td>-0.01</td>\n",
       "      <td>-0.65</td>\n",
       "      <td>1.58</td>\n",
       "      <td>-0.41</td>\n",
       "      <td>0.49</td>\n",
       "      <td>...</td>\n",
       "      <td>0.26</td>\n",
       "      <td>0.64</td>\n",
       "      <td>0.38</td>\n",
       "      <td>0.01</td>\n",
       "      <td>-0.47</td>\n",
       "      <td>-0.82</td>\n",
       "      <td>-0.00</td>\n",
       "      <td>0.01</td>\n",
       "      <td>0.51</td>\n",
       "      <td>0</td>\n",
       "    </tr>\n",
       "  </tbody>\n",
       "</table>\n",
       "<p>284807 rows × 31 columns</p>\n",
       "</div>"
      ],
      "text/plain": [
       "        Time     V1    V2    V3    V4    V5    V6    V7    V8    V9  ...  \\\n",
       "0      -2.00  -1.36 -0.07  2.54  1.38 -0.34  0.46  0.24  0.10  0.36  ...   \n",
       "1      -2.00   1.19  0.27  0.17  0.45  0.06 -0.08 -0.08  0.09 -0.26  ...   \n",
       "2      -2.00  -1.36 -1.34  1.77  0.38 -0.50  1.80  0.79  0.25 -1.51  ...   \n",
       "3      -2.00  -0.97 -0.19  1.79 -0.86 -0.01  1.25  0.24  0.38 -1.39  ...   \n",
       "4      -2.00  -1.16  0.88  1.55  0.40 -0.41  0.10  0.59 -0.27  0.82  ...   \n",
       "...      ...    ...   ...   ...   ...   ...   ...   ...   ...   ...  ...   \n",
       "284802  1.64 -11.88 10.07 -9.83 -2.07 -5.36 -2.61 -4.92  7.31  1.91  ...   \n",
       "284803  1.64  -0.73 -0.06  2.04 -0.74  0.87  1.06  0.02  0.29  0.58  ...   \n",
       "284804  1.64   1.92 -0.30 -3.25 -0.56  2.63  3.03 -0.30  0.71  0.43  ...   \n",
       "284805  1.64  -0.24  0.53  0.70  0.69 -0.38  0.62 -0.69  0.68  0.39  ...   \n",
       "284806  1.64  -0.53 -0.19  0.70 -0.51 -0.01 -0.65  1.58 -0.41  0.49  ...   \n",
       "\n",
       "         V21   V22   V23   V24   V25   V26   V27   V28  Amount  Class  \n",
       "0      -0.02  0.28 -0.11  0.07  0.13 -0.19  0.13 -0.02    0.24      0  \n",
       "1      -0.23 -0.64  0.10 -0.34  0.17  0.13 -0.01  0.01   -0.34      0  \n",
       "2       0.25  0.77  0.91 -0.69 -0.33 -0.14 -0.06 -0.06    1.16      0  \n",
       "3      -0.11  0.01 -0.19 -1.18  0.65 -0.22  0.06  0.06    0.14      0  \n",
       "4      -0.01  0.80 -0.14  0.14 -0.21  0.50  0.22  0.22   -0.07      0  \n",
       "...      ...   ...   ...   ...   ...   ...   ...   ...     ...    ...  \n",
       "284802  0.21  0.11  1.01 -0.51  1.44  0.25  0.94  0.82   -0.35      0  \n",
       "284803  0.21  0.92  0.01 -1.02 -0.61 -0.40  0.07 -0.05   -0.25      0  \n",
       "284804  0.23  0.58 -0.04  0.64  0.27 -0.09  0.00 -0.03   -0.08      0  \n",
       "284805  0.27  0.80 -0.16  0.12 -0.57  0.55  0.11  0.10   -0.31      0  \n",
       "284806  0.26  0.64  0.38  0.01 -0.47 -0.82 -0.00  0.01    0.51      0  \n",
       "\n",
       "[284807 rows x 31 columns]"
      ]
     },
     "execution_count": 14,
     "metadata": {},
     "output_type": "execute_result"
    }
   ],
   "source": [
    "#  Normalizing The Time and Money Features\n",
    "\n",
    "from sklearn.preprocessing import StandardScaler\n",
    "Scaler = StandardScaler()\n",
    "Scaled_Features = Scaler.fit_transform(Datasets[[\"Time\", \"Amount\"]])\n",
    "\n",
    "Datasets[[\"Time\", \"Amount\"]] = Scaled_Features\n",
    "Datasets"
   ]
  },
  {
   "cell_type": "code",
   "execution_count": 15,
   "id": "pleasant-tongue",
   "metadata": {},
   "outputs": [],
   "source": [
    "Data = Datasets.copy()"
   ]
  },
  {
   "cell_type": "markdown",
   "id": "after-vision",
   "metadata": {},
   "source": [
    "#  Correlation between datasets"
   ]
  },
  {
   "cell_type": "code",
   "execution_count": 16,
   "id": "attractive-flash",
   "metadata": {},
   "outputs": [
    {
     "data": {
      "text/html": [
       "<div>\n",
       "<style scoped>\n",
       "    .dataframe tbody tr th:only-of-type {\n",
       "        vertical-align: middle;\n",
       "    }\n",
       "\n",
       "    .dataframe tbody tr th {\n",
       "        vertical-align: top;\n",
       "    }\n",
       "\n",
       "    .dataframe thead th {\n",
       "        text-align: right;\n",
       "    }\n",
       "</style>\n",
       "<table border=\"1\" class=\"dataframe\">\n",
       "  <thead>\n",
       "    <tr style=\"text-align: right;\">\n",
       "      <th></th>\n",
       "      <th>Time</th>\n",
       "      <th>V1</th>\n",
       "      <th>V2</th>\n",
       "      <th>V3</th>\n",
       "      <th>V4</th>\n",
       "      <th>V5</th>\n",
       "      <th>V6</th>\n",
       "      <th>V7</th>\n",
       "      <th>V8</th>\n",
       "      <th>V9</th>\n",
       "      <th>...</th>\n",
       "      <th>V21</th>\n",
       "      <th>V22</th>\n",
       "      <th>V23</th>\n",
       "      <th>V24</th>\n",
       "      <th>V25</th>\n",
       "      <th>V26</th>\n",
       "      <th>V27</th>\n",
       "      <th>V28</th>\n",
       "      <th>Amount</th>\n",
       "      <th>Class</th>\n",
       "    </tr>\n",
       "  </thead>\n",
       "  <tbody>\n",
       "    <tr>\n",
       "      <th>Time</th>\n",
       "      <td>1.00</td>\n",
       "      <td>0.12</td>\n",
       "      <td>-0.01</td>\n",
       "      <td>-0.42</td>\n",
       "      <td>-0.11</td>\n",
       "      <td>0.17</td>\n",
       "      <td>-0.06</td>\n",
       "      <td>0.08</td>\n",
       "      <td>-0.04</td>\n",
       "      <td>-0.01</td>\n",
       "      <td>...</td>\n",
       "      <td>0.04</td>\n",
       "      <td>0.14</td>\n",
       "      <td>0.05</td>\n",
       "      <td>-0.02</td>\n",
       "      <td>-0.23</td>\n",
       "      <td>-0.04</td>\n",
       "      <td>-0.01</td>\n",
       "      <td>-0.01</td>\n",
       "      <td>-0.01</td>\n",
       "      <td>-0.01</td>\n",
       "    </tr>\n",
       "    <tr>\n",
       "      <th>V1</th>\n",
       "      <td>0.12</td>\n",
       "      <td>1.00</td>\n",
       "      <td>0.00</td>\n",
       "      <td>-0.00</td>\n",
       "      <td>-0.00</td>\n",
       "      <td>-0.00</td>\n",
       "      <td>-0.00</td>\n",
       "      <td>-0.00</td>\n",
       "      <td>0.00</td>\n",
       "      <td>0.00</td>\n",
       "      <td>...</td>\n",
       "      <td>-0.00</td>\n",
       "      <td>0.00</td>\n",
       "      <td>-0.00</td>\n",
       "      <td>-0.00</td>\n",
       "      <td>0.00</td>\n",
       "      <td>0.00</td>\n",
       "      <td>0.00</td>\n",
       "      <td>-0.00</td>\n",
       "      <td>-0.23</td>\n",
       "      <td>-0.10</td>\n",
       "    </tr>\n",
       "    <tr>\n",
       "      <th>V2</th>\n",
       "      <td>-0.01</td>\n",
       "      <td>0.00</td>\n",
       "      <td>1.00</td>\n",
       "      <td>0.00</td>\n",
       "      <td>-0.00</td>\n",
       "      <td>-0.00</td>\n",
       "      <td>0.00</td>\n",
       "      <td>0.00</td>\n",
       "      <td>0.00</td>\n",
       "      <td>0.00</td>\n",
       "      <td>...</td>\n",
       "      <td>0.00</td>\n",
       "      <td>-0.00</td>\n",
       "      <td>-0.00</td>\n",
       "      <td>0.00</td>\n",
       "      <td>-0.00</td>\n",
       "      <td>-0.00</td>\n",
       "      <td>-0.00</td>\n",
       "      <td>0.00</td>\n",
       "      <td>-0.53</td>\n",
       "      <td>0.09</td>\n",
       "    </tr>\n",
       "    <tr>\n",
       "      <th>V3</th>\n",
       "      <td>-0.42</td>\n",
       "      <td>-0.00</td>\n",
       "      <td>0.00</td>\n",
       "      <td>1.00</td>\n",
       "      <td>0.00</td>\n",
       "      <td>-0.00</td>\n",
       "      <td>-0.00</td>\n",
       "      <td>0.00</td>\n",
       "      <td>-0.00</td>\n",
       "      <td>-0.00</td>\n",
       "      <td>...</td>\n",
       "      <td>0.00</td>\n",
       "      <td>-0.00</td>\n",
       "      <td>0.00</td>\n",
       "      <td>0.00</td>\n",
       "      <td>0.00</td>\n",
       "      <td>-0.00</td>\n",
       "      <td>-0.00</td>\n",
       "      <td>0.00</td>\n",
       "      <td>-0.21</td>\n",
       "      <td>-0.19</td>\n",
       "    </tr>\n",
       "    <tr>\n",
       "      <th>V4</th>\n",
       "      <td>-0.11</td>\n",
       "      <td>-0.00</td>\n",
       "      <td>-0.00</td>\n",
       "      <td>0.00</td>\n",
       "      <td>1.00</td>\n",
       "      <td>-0.00</td>\n",
       "      <td>0.00</td>\n",
       "      <td>0.00</td>\n",
       "      <td>0.00</td>\n",
       "      <td>-0.00</td>\n",
       "      <td>...</td>\n",
       "      <td>-0.00</td>\n",
       "      <td>0.00</td>\n",
       "      <td>-0.00</td>\n",
       "      <td>-0.00</td>\n",
       "      <td>0.00</td>\n",
       "      <td>-0.00</td>\n",
       "      <td>-0.00</td>\n",
       "      <td>-0.00</td>\n",
       "      <td>0.10</td>\n",
       "      <td>0.13</td>\n",
       "    </tr>\n",
       "    <tr>\n",
       "      <th>V5</th>\n",
       "      <td>0.17</td>\n",
       "      <td>-0.00</td>\n",
       "      <td>-0.00</td>\n",
       "      <td>-0.00</td>\n",
       "      <td>-0.00</td>\n",
       "      <td>1.00</td>\n",
       "      <td>-0.00</td>\n",
       "      <td>0.00</td>\n",
       "      <td>-0.00</td>\n",
       "      <td>-0.00</td>\n",
       "      <td>...</td>\n",
       "      <td>-0.00</td>\n",
       "      <td>0.00</td>\n",
       "      <td>0.00</td>\n",
       "      <td>-0.00</td>\n",
       "      <td>0.00</td>\n",
       "      <td>-0.00</td>\n",
       "      <td>-0.00</td>\n",
       "      <td>0.00</td>\n",
       "      <td>-0.39</td>\n",
       "      <td>-0.09</td>\n",
       "    </tr>\n",
       "    <tr>\n",
       "      <th>V6</th>\n",
       "      <td>-0.06</td>\n",
       "      <td>-0.00</td>\n",
       "      <td>0.00</td>\n",
       "      <td>-0.00</td>\n",
       "      <td>0.00</td>\n",
       "      <td>-0.00</td>\n",
       "      <td>1.00</td>\n",
       "      <td>-0.00</td>\n",
       "      <td>-0.00</td>\n",
       "      <td>0.00</td>\n",
       "      <td>...</td>\n",
       "      <td>0.00</td>\n",
       "      <td>-0.00</td>\n",
       "      <td>-0.00</td>\n",
       "      <td>0.00</td>\n",
       "      <td>-0.00</td>\n",
       "      <td>0.00</td>\n",
       "      <td>0.00</td>\n",
       "      <td>-0.00</td>\n",
       "      <td>0.22</td>\n",
       "      <td>-0.04</td>\n",
       "    </tr>\n",
       "    <tr>\n",
       "      <th>V7</th>\n",
       "      <td>0.08</td>\n",
       "      <td>-0.00</td>\n",
       "      <td>0.00</td>\n",
       "      <td>0.00</td>\n",
       "      <td>0.00</td>\n",
       "      <td>0.00</td>\n",
       "      <td>-0.00</td>\n",
       "      <td>1.00</td>\n",
       "      <td>0.00</td>\n",
       "      <td>0.00</td>\n",
       "      <td>...</td>\n",
       "      <td>0.00</td>\n",
       "      <td>-0.00</td>\n",
       "      <td>-0.00</td>\n",
       "      <td>-0.00</td>\n",
       "      <td>-0.00</td>\n",
       "      <td>-0.00</td>\n",
       "      <td>-0.00</td>\n",
       "      <td>0.00</td>\n",
       "      <td>0.40</td>\n",
       "      <td>-0.19</td>\n",
       "    </tr>\n",
       "    <tr>\n",
       "      <th>V8</th>\n",
       "      <td>-0.04</td>\n",
       "      <td>0.00</td>\n",
       "      <td>0.00</td>\n",
       "      <td>-0.00</td>\n",
       "      <td>0.00</td>\n",
       "      <td>-0.00</td>\n",
       "      <td>-0.00</td>\n",
       "      <td>0.00</td>\n",
       "      <td>1.00</td>\n",
       "      <td>-0.00</td>\n",
       "      <td>...</td>\n",
       "      <td>-0.00</td>\n",
       "      <td>-0.00</td>\n",
       "      <td>0.00</td>\n",
       "      <td>-0.00</td>\n",
       "      <td>-0.00</td>\n",
       "      <td>0.00</td>\n",
       "      <td>-0.00</td>\n",
       "      <td>0.00</td>\n",
       "      <td>-0.10</td>\n",
       "      <td>0.02</td>\n",
       "    </tr>\n",
       "    <tr>\n",
       "      <th>V9</th>\n",
       "      <td>-0.01</td>\n",
       "      <td>0.00</td>\n",
       "      <td>0.00</td>\n",
       "      <td>-0.00</td>\n",
       "      <td>-0.00</td>\n",
       "      <td>-0.00</td>\n",
       "      <td>0.00</td>\n",
       "      <td>0.00</td>\n",
       "      <td>-0.00</td>\n",
       "      <td>1.00</td>\n",
       "      <td>...</td>\n",
       "      <td>0.00</td>\n",
       "      <td>-0.00</td>\n",
       "      <td>-0.00</td>\n",
       "      <td>0.00</td>\n",
       "      <td>-0.00</td>\n",
       "      <td>-0.00</td>\n",
       "      <td>0.00</td>\n",
       "      <td>-0.00</td>\n",
       "      <td>-0.04</td>\n",
       "      <td>-0.10</td>\n",
       "    </tr>\n",
       "    <tr>\n",
       "      <th>V10</th>\n",
       "      <td>0.03</td>\n",
       "      <td>-0.00</td>\n",
       "      <td>0.00</td>\n",
       "      <td>-0.00</td>\n",
       "      <td>-0.00</td>\n",
       "      <td>-0.00</td>\n",
       "      <td>0.00</td>\n",
       "      <td>0.00</td>\n",
       "      <td>-0.00</td>\n",
       "      <td>0.00</td>\n",
       "      <td>...</td>\n",
       "      <td>-0.00</td>\n",
       "      <td>-0.00</td>\n",
       "      <td>0.00</td>\n",
       "      <td>0.00</td>\n",
       "      <td>0.00</td>\n",
       "      <td>-0.00</td>\n",
       "      <td>0.00</td>\n",
       "      <td>0.00</td>\n",
       "      <td>-0.10</td>\n",
       "      <td>-0.22</td>\n",
       "    </tr>\n",
       "    <tr>\n",
       "      <th>V11</th>\n",
       "      <td>-0.25</td>\n",
       "      <td>0.00</td>\n",
       "      <td>-0.00</td>\n",
       "      <td>0.00</td>\n",
       "      <td>0.00</td>\n",
       "      <td>-0.00</td>\n",
       "      <td>0.00</td>\n",
       "      <td>-0.00</td>\n",
       "      <td>0.00</td>\n",
       "      <td>-0.00</td>\n",
       "      <td>...</td>\n",
       "      <td>0.00</td>\n",
       "      <td>-0.00</td>\n",
       "      <td>0.00</td>\n",
       "      <td>-0.00</td>\n",
       "      <td>-0.00</td>\n",
       "      <td>0.00</td>\n",
       "      <td>-0.00</td>\n",
       "      <td>-0.00</td>\n",
       "      <td>0.00</td>\n",
       "      <td>0.15</td>\n",
       "    </tr>\n",
       "    <tr>\n",
       "      <th>V12</th>\n",
       "      <td>0.12</td>\n",
       "      <td>-0.00</td>\n",
       "      <td>0.00</td>\n",
       "      <td>-0.00</td>\n",
       "      <td>0.00</td>\n",
       "      <td>0.00</td>\n",
       "      <td>-0.00</td>\n",
       "      <td>-0.00</td>\n",
       "      <td>-0.00</td>\n",
       "      <td>-0.00</td>\n",
       "      <td>...</td>\n",
       "      <td>0.00</td>\n",
       "      <td>-0.00</td>\n",
       "      <td>-0.00</td>\n",
       "      <td>-0.00</td>\n",
       "      <td>0.00</td>\n",
       "      <td>0.00</td>\n",
       "      <td>0.00</td>\n",
       "      <td>-0.00</td>\n",
       "      <td>-0.01</td>\n",
       "      <td>-0.26</td>\n",
       "    </tr>\n",
       "    <tr>\n",
       "      <th>V13</th>\n",
       "      <td>-0.07</td>\n",
       "      <td>0.00</td>\n",
       "      <td>-0.00</td>\n",
       "      <td>-0.00</td>\n",
       "      <td>0.00</td>\n",
       "      <td>-0.00</td>\n",
       "      <td>0.00</td>\n",
       "      <td>-0.00</td>\n",
       "      <td>0.00</td>\n",
       "      <td>0.00</td>\n",
       "      <td>...</td>\n",
       "      <td>-0.00</td>\n",
       "      <td>-0.00</td>\n",
       "      <td>0.00</td>\n",
       "      <td>0.00</td>\n",
       "      <td>-0.00</td>\n",
       "      <td>-0.00</td>\n",
       "      <td>0.00</td>\n",
       "      <td>-0.00</td>\n",
       "      <td>0.01</td>\n",
       "      <td>-0.00</td>\n",
       "    </tr>\n",
       "    <tr>\n",
       "      <th>V14</th>\n",
       "      <td>-0.10</td>\n",
       "      <td>-0.00</td>\n",
       "      <td>-0.00</td>\n",
       "      <td>-0.00</td>\n",
       "      <td>-0.00</td>\n",
       "      <td>-0.00</td>\n",
       "      <td>-0.00</td>\n",
       "      <td>0.00</td>\n",
       "      <td>-0.00</td>\n",
       "      <td>-0.00</td>\n",
       "      <td>...</td>\n",
       "      <td>-0.00</td>\n",
       "      <td>0.00</td>\n",
       "      <td>0.00</td>\n",
       "      <td>-0.00</td>\n",
       "      <td>0.00</td>\n",
       "      <td>-0.00</td>\n",
       "      <td>-0.00</td>\n",
       "      <td>-0.00</td>\n",
       "      <td>0.03</td>\n",
       "      <td>-0.30</td>\n",
       "    </tr>\n",
       "    <tr>\n",
       "      <th>V15</th>\n",
       "      <td>-0.18</td>\n",
       "      <td>-0.00</td>\n",
       "      <td>0.00</td>\n",
       "      <td>0.00</td>\n",
       "      <td>0.00</td>\n",
       "      <td>-0.00</td>\n",
       "      <td>-0.00</td>\n",
       "      <td>0.00</td>\n",
       "      <td>0.00</td>\n",
       "      <td>0.00</td>\n",
       "      <td>...</td>\n",
       "      <td>0.00</td>\n",
       "      <td>-0.00</td>\n",
       "      <td>-0.00</td>\n",
       "      <td>-0.00</td>\n",
       "      <td>-0.00</td>\n",
       "      <td>0.00</td>\n",
       "      <td>-0.00</td>\n",
       "      <td>-0.00</td>\n",
       "      <td>-0.00</td>\n",
       "      <td>-0.00</td>\n",
       "    </tr>\n",
       "    <tr>\n",
       "      <th>V16</th>\n",
       "      <td>0.01</td>\n",
       "      <td>-0.00</td>\n",
       "      <td>-0.00</td>\n",
       "      <td>-0.00</td>\n",
       "      <td>0.00</td>\n",
       "      <td>-0.00</td>\n",
       "      <td>0.00</td>\n",
       "      <td>-0.00</td>\n",
       "      <td>-0.00</td>\n",
       "      <td>0.00</td>\n",
       "      <td>...</td>\n",
       "      <td>-0.00</td>\n",
       "      <td>0.00</td>\n",
       "      <td>0.00</td>\n",
       "      <td>-0.00</td>\n",
       "      <td>0.00</td>\n",
       "      <td>-0.00</td>\n",
       "      <td>0.00</td>\n",
       "      <td>0.00</td>\n",
       "      <td>-0.00</td>\n",
       "      <td>-0.20</td>\n",
       "    </tr>\n",
       "    <tr>\n",
       "      <th>V17</th>\n",
       "      <td>-0.07</td>\n",
       "      <td>0.00</td>\n",
       "      <td>0.00</td>\n",
       "      <td>-0.00</td>\n",
       "      <td>0.00</td>\n",
       "      <td>0.00</td>\n",
       "      <td>0.00</td>\n",
       "      <td>-0.00</td>\n",
       "      <td>0.00</td>\n",
       "      <td>-0.00</td>\n",
       "      <td>...</td>\n",
       "      <td>0.00</td>\n",
       "      <td>0.00</td>\n",
       "      <td>-0.00</td>\n",
       "      <td>-0.00</td>\n",
       "      <td>0.00</td>\n",
       "      <td>0.00</td>\n",
       "      <td>-0.00</td>\n",
       "      <td>0.00</td>\n",
       "      <td>0.01</td>\n",
       "      <td>-0.33</td>\n",
       "    </tr>\n",
       "    <tr>\n",
       "      <th>V18</th>\n",
       "      <td>0.09</td>\n",
       "      <td>-0.00</td>\n",
       "      <td>-0.00</td>\n",
       "      <td>-0.00</td>\n",
       "      <td>-0.00</td>\n",
       "      <td>0.00</td>\n",
       "      <td>0.00</td>\n",
       "      <td>-0.00</td>\n",
       "      <td>0.00</td>\n",
       "      <td>0.00</td>\n",
       "      <td>...</td>\n",
       "      <td>-0.00</td>\n",
       "      <td>0.00</td>\n",
       "      <td>-0.00</td>\n",
       "      <td>0.00</td>\n",
       "      <td>0.00</td>\n",
       "      <td>-0.00</td>\n",
       "      <td>-0.00</td>\n",
       "      <td>0.00</td>\n",
       "      <td>0.04</td>\n",
       "      <td>-0.11</td>\n",
       "    </tr>\n",
       "    <tr>\n",
       "      <th>V19</th>\n",
       "      <td>0.03</td>\n",
       "      <td>-0.00</td>\n",
       "      <td>-0.00</td>\n",
       "      <td>-0.00</td>\n",
       "      <td>-0.00</td>\n",
       "      <td>0.00</td>\n",
       "      <td>0.00</td>\n",
       "      <td>-0.00</td>\n",
       "      <td>0.00</td>\n",
       "      <td>-0.00</td>\n",
       "      <td>...</td>\n",
       "      <td>-0.00</td>\n",
       "      <td>0.00</td>\n",
       "      <td>-0.00</td>\n",
       "      <td>0.00</td>\n",
       "      <td>0.00</td>\n",
       "      <td>0.00</td>\n",
       "      <td>-0.00</td>\n",
       "      <td>0.00</td>\n",
       "      <td>-0.06</td>\n",
       "      <td>0.03</td>\n",
       "    </tr>\n",
       "    <tr>\n",
       "      <th>V20</th>\n",
       "      <td>-0.05</td>\n",
       "      <td>0.00</td>\n",
       "      <td>0.00</td>\n",
       "      <td>0.00</td>\n",
       "      <td>-0.00</td>\n",
       "      <td>-0.00</td>\n",
       "      <td>-0.00</td>\n",
       "      <td>0.00</td>\n",
       "      <td>-0.00</td>\n",
       "      <td>0.00</td>\n",
       "      <td>...</td>\n",
       "      <td>-0.00</td>\n",
       "      <td>0.00</td>\n",
       "      <td>-0.00</td>\n",
       "      <td>0.00</td>\n",
       "      <td>-0.00</td>\n",
       "      <td>0.00</td>\n",
       "      <td>-0.00</td>\n",
       "      <td>0.00</td>\n",
       "      <td>0.34</td>\n",
       "      <td>0.02</td>\n",
       "    </tr>\n",
       "    <tr>\n",
       "      <th>V21</th>\n",
       "      <td>0.04</td>\n",
       "      <td>-0.00</td>\n",
       "      <td>0.00</td>\n",
       "      <td>0.00</td>\n",
       "      <td>-0.00</td>\n",
       "      <td>-0.00</td>\n",
       "      <td>0.00</td>\n",
       "      <td>0.00</td>\n",
       "      <td>-0.00</td>\n",
       "      <td>0.00</td>\n",
       "      <td>...</td>\n",
       "      <td>1.00</td>\n",
       "      <td>-0.00</td>\n",
       "      <td>0.00</td>\n",
       "      <td>0.00</td>\n",
       "      <td>-0.00</td>\n",
       "      <td>0.00</td>\n",
       "      <td>-0.00</td>\n",
       "      <td>0.00</td>\n",
       "      <td>0.11</td>\n",
       "      <td>0.04</td>\n",
       "    </tr>\n",
       "    <tr>\n",
       "      <th>V22</th>\n",
       "      <td>0.14</td>\n",
       "      <td>0.00</td>\n",
       "      <td>-0.00</td>\n",
       "      <td>-0.00</td>\n",
       "      <td>0.00</td>\n",
       "      <td>0.00</td>\n",
       "      <td>-0.00</td>\n",
       "      <td>-0.00</td>\n",
       "      <td>-0.00</td>\n",
       "      <td>-0.00</td>\n",
       "      <td>...</td>\n",
       "      <td>-0.00</td>\n",
       "      <td>1.00</td>\n",
       "      <td>-0.00</td>\n",
       "      <td>-0.00</td>\n",
       "      <td>0.00</td>\n",
       "      <td>-0.00</td>\n",
       "      <td>-0.00</td>\n",
       "      <td>0.00</td>\n",
       "      <td>-0.06</td>\n",
       "      <td>0.00</td>\n",
       "    </tr>\n",
       "    <tr>\n",
       "      <th>V23</th>\n",
       "      <td>0.05</td>\n",
       "      <td>-0.00</td>\n",
       "      <td>-0.00</td>\n",
       "      <td>0.00</td>\n",
       "      <td>-0.00</td>\n",
       "      <td>0.00</td>\n",
       "      <td>-0.00</td>\n",
       "      <td>-0.00</td>\n",
       "      <td>0.00</td>\n",
       "      <td>-0.00</td>\n",
       "      <td>...</td>\n",
       "      <td>0.00</td>\n",
       "      <td>-0.00</td>\n",
       "      <td>1.00</td>\n",
       "      <td>0.00</td>\n",
       "      <td>-0.00</td>\n",
       "      <td>-0.00</td>\n",
       "      <td>0.00</td>\n",
       "      <td>0.00</td>\n",
       "      <td>-0.11</td>\n",
       "      <td>-0.00</td>\n",
       "    </tr>\n",
       "    <tr>\n",
       "      <th>V24</th>\n",
       "      <td>-0.02</td>\n",
       "      <td>-0.00</td>\n",
       "      <td>0.00</td>\n",
       "      <td>0.00</td>\n",
       "      <td>-0.00</td>\n",
       "      <td>-0.00</td>\n",
       "      <td>0.00</td>\n",
       "      <td>-0.00</td>\n",
       "      <td>-0.00</td>\n",
       "      <td>0.00</td>\n",
       "      <td>...</td>\n",
       "      <td>0.00</td>\n",
       "      <td>-0.00</td>\n",
       "      <td>0.00</td>\n",
       "      <td>1.00</td>\n",
       "      <td>-0.00</td>\n",
       "      <td>0.00</td>\n",
       "      <td>0.00</td>\n",
       "      <td>0.00</td>\n",
       "      <td>0.01</td>\n",
       "      <td>-0.01</td>\n",
       "    </tr>\n",
       "    <tr>\n",
       "      <th>V25</th>\n",
       "      <td>-0.23</td>\n",
       "      <td>0.00</td>\n",
       "      <td>-0.00</td>\n",
       "      <td>0.00</td>\n",
       "      <td>0.00</td>\n",
       "      <td>0.00</td>\n",
       "      <td>-0.00</td>\n",
       "      <td>-0.00</td>\n",
       "      <td>-0.00</td>\n",
       "      <td>-0.00</td>\n",
       "      <td>...</td>\n",
       "      <td>-0.00</td>\n",
       "      <td>0.00</td>\n",
       "      <td>-0.00</td>\n",
       "      <td>-0.00</td>\n",
       "      <td>1.00</td>\n",
       "      <td>0.00</td>\n",
       "      <td>-0.00</td>\n",
       "      <td>-0.00</td>\n",
       "      <td>-0.05</td>\n",
       "      <td>0.00</td>\n",
       "    </tr>\n",
       "    <tr>\n",
       "      <th>V26</th>\n",
       "      <td>-0.04</td>\n",
       "      <td>0.00</td>\n",
       "      <td>-0.00</td>\n",
       "      <td>-0.00</td>\n",
       "      <td>-0.00</td>\n",
       "      <td>-0.00</td>\n",
       "      <td>0.00</td>\n",
       "      <td>-0.00</td>\n",
       "      <td>0.00</td>\n",
       "      <td>-0.00</td>\n",
       "      <td>...</td>\n",
       "      <td>0.00</td>\n",
       "      <td>-0.00</td>\n",
       "      <td>-0.00</td>\n",
       "      <td>0.00</td>\n",
       "      <td>0.00</td>\n",
       "      <td>1.00</td>\n",
       "      <td>0.00</td>\n",
       "      <td>-0.00</td>\n",
       "      <td>-0.00</td>\n",
       "      <td>0.00</td>\n",
       "    </tr>\n",
       "    <tr>\n",
       "      <th>V27</th>\n",
       "      <td>-0.01</td>\n",
       "      <td>0.00</td>\n",
       "      <td>-0.00</td>\n",
       "      <td>-0.00</td>\n",
       "      <td>-0.00</td>\n",
       "      <td>-0.00</td>\n",
       "      <td>0.00</td>\n",
       "      <td>-0.00</td>\n",
       "      <td>-0.00</td>\n",
       "      <td>0.00</td>\n",
       "      <td>...</td>\n",
       "      <td>-0.00</td>\n",
       "      <td>-0.00</td>\n",
       "      <td>0.00</td>\n",
       "      <td>0.00</td>\n",
       "      <td>-0.00</td>\n",
       "      <td>0.00</td>\n",
       "      <td>1.00</td>\n",
       "      <td>-0.00</td>\n",
       "      <td>0.03</td>\n",
       "      <td>0.02</td>\n",
       "    </tr>\n",
       "    <tr>\n",
       "      <th>V28</th>\n",
       "      <td>-0.01</td>\n",
       "      <td>-0.00</td>\n",
       "      <td>0.00</td>\n",
       "      <td>0.00</td>\n",
       "      <td>-0.00</td>\n",
       "      <td>0.00</td>\n",
       "      <td>-0.00</td>\n",
       "      <td>0.00</td>\n",
       "      <td>0.00</td>\n",
       "      <td>-0.00</td>\n",
       "      <td>...</td>\n",
       "      <td>0.00</td>\n",
       "      <td>0.00</td>\n",
       "      <td>0.00</td>\n",
       "      <td>0.00</td>\n",
       "      <td>-0.00</td>\n",
       "      <td>-0.00</td>\n",
       "      <td>-0.00</td>\n",
       "      <td>1.00</td>\n",
       "      <td>0.01</td>\n",
       "      <td>0.01</td>\n",
       "    </tr>\n",
       "    <tr>\n",
       "      <th>Amount</th>\n",
       "      <td>-0.01</td>\n",
       "      <td>-0.23</td>\n",
       "      <td>-0.53</td>\n",
       "      <td>-0.21</td>\n",
       "      <td>0.10</td>\n",
       "      <td>-0.39</td>\n",
       "      <td>0.22</td>\n",
       "      <td>0.40</td>\n",
       "      <td>-0.10</td>\n",
       "      <td>-0.04</td>\n",
       "      <td>...</td>\n",
       "      <td>0.11</td>\n",
       "      <td>-0.06</td>\n",
       "      <td>-0.11</td>\n",
       "      <td>0.01</td>\n",
       "      <td>-0.05</td>\n",
       "      <td>-0.00</td>\n",
       "      <td>0.03</td>\n",
       "      <td>0.01</td>\n",
       "      <td>1.00</td>\n",
       "      <td>0.01</td>\n",
       "    </tr>\n",
       "    <tr>\n",
       "      <th>Class</th>\n",
       "      <td>-0.01</td>\n",
       "      <td>-0.10</td>\n",
       "      <td>0.09</td>\n",
       "      <td>-0.19</td>\n",
       "      <td>0.13</td>\n",
       "      <td>-0.09</td>\n",
       "      <td>-0.04</td>\n",
       "      <td>-0.19</td>\n",
       "      <td>0.02</td>\n",
       "      <td>-0.10</td>\n",
       "      <td>...</td>\n",
       "      <td>0.04</td>\n",
       "      <td>0.00</td>\n",
       "      <td>-0.00</td>\n",
       "      <td>-0.01</td>\n",
       "      <td>0.00</td>\n",
       "      <td>0.00</td>\n",
       "      <td>0.02</td>\n",
       "      <td>0.01</td>\n",
       "      <td>0.01</td>\n",
       "      <td>1.00</td>\n",
       "    </tr>\n",
       "  </tbody>\n",
       "</table>\n",
       "<p>31 rows × 31 columns</p>\n",
       "</div>"
      ],
      "text/plain": [
       "        Time    V1    V2    V3    V4    V5    V6    V7    V8    V9  ...   V21  \\\n",
       "Time    1.00  0.12 -0.01 -0.42 -0.11  0.17 -0.06  0.08 -0.04 -0.01  ...  0.04   \n",
       "V1      0.12  1.00  0.00 -0.00 -0.00 -0.00 -0.00 -0.00  0.00  0.00  ... -0.00   \n",
       "V2     -0.01  0.00  1.00  0.00 -0.00 -0.00  0.00  0.00  0.00  0.00  ...  0.00   \n",
       "V3     -0.42 -0.00  0.00  1.00  0.00 -0.00 -0.00  0.00 -0.00 -0.00  ...  0.00   \n",
       "V4     -0.11 -0.00 -0.00  0.00  1.00 -0.00  0.00  0.00  0.00 -0.00  ... -0.00   \n",
       "V5      0.17 -0.00 -0.00 -0.00 -0.00  1.00 -0.00  0.00 -0.00 -0.00  ... -0.00   \n",
       "V6     -0.06 -0.00  0.00 -0.00  0.00 -0.00  1.00 -0.00 -0.00  0.00  ...  0.00   \n",
       "V7      0.08 -0.00  0.00  0.00  0.00  0.00 -0.00  1.00  0.00  0.00  ...  0.00   \n",
       "V8     -0.04  0.00  0.00 -0.00  0.00 -0.00 -0.00  0.00  1.00 -0.00  ... -0.00   \n",
       "V9     -0.01  0.00  0.00 -0.00 -0.00 -0.00  0.00  0.00 -0.00  1.00  ...  0.00   \n",
       "V10     0.03 -0.00  0.00 -0.00 -0.00 -0.00  0.00  0.00 -0.00  0.00  ... -0.00   \n",
       "V11    -0.25  0.00 -0.00  0.00  0.00 -0.00  0.00 -0.00  0.00 -0.00  ...  0.00   \n",
       "V12     0.12 -0.00  0.00 -0.00  0.00  0.00 -0.00 -0.00 -0.00 -0.00  ...  0.00   \n",
       "V13    -0.07  0.00 -0.00 -0.00  0.00 -0.00  0.00 -0.00  0.00  0.00  ... -0.00   \n",
       "V14    -0.10 -0.00 -0.00 -0.00 -0.00 -0.00 -0.00  0.00 -0.00 -0.00  ... -0.00   \n",
       "V15    -0.18 -0.00  0.00  0.00  0.00 -0.00 -0.00  0.00  0.00  0.00  ...  0.00   \n",
       "V16     0.01 -0.00 -0.00 -0.00  0.00 -0.00  0.00 -0.00 -0.00  0.00  ... -0.00   \n",
       "V17    -0.07  0.00  0.00 -0.00  0.00  0.00  0.00 -0.00  0.00 -0.00  ...  0.00   \n",
       "V18     0.09 -0.00 -0.00 -0.00 -0.00  0.00  0.00 -0.00  0.00  0.00  ... -0.00   \n",
       "V19     0.03 -0.00 -0.00 -0.00 -0.00  0.00  0.00 -0.00  0.00 -0.00  ... -0.00   \n",
       "V20    -0.05  0.00  0.00  0.00 -0.00 -0.00 -0.00  0.00 -0.00  0.00  ... -0.00   \n",
       "V21     0.04 -0.00  0.00  0.00 -0.00 -0.00  0.00  0.00 -0.00  0.00  ...  1.00   \n",
       "V22     0.14  0.00 -0.00 -0.00  0.00  0.00 -0.00 -0.00 -0.00 -0.00  ... -0.00   \n",
       "V23     0.05 -0.00 -0.00  0.00 -0.00  0.00 -0.00 -0.00  0.00 -0.00  ...  0.00   \n",
       "V24    -0.02 -0.00  0.00  0.00 -0.00 -0.00  0.00 -0.00 -0.00  0.00  ...  0.00   \n",
       "V25    -0.23  0.00 -0.00  0.00  0.00  0.00 -0.00 -0.00 -0.00 -0.00  ... -0.00   \n",
       "V26    -0.04  0.00 -0.00 -0.00 -0.00 -0.00  0.00 -0.00  0.00 -0.00  ...  0.00   \n",
       "V27    -0.01  0.00 -0.00 -0.00 -0.00 -0.00  0.00 -0.00 -0.00  0.00  ... -0.00   \n",
       "V28    -0.01 -0.00  0.00  0.00 -0.00  0.00 -0.00  0.00  0.00 -0.00  ...  0.00   \n",
       "Amount -0.01 -0.23 -0.53 -0.21  0.10 -0.39  0.22  0.40 -0.10 -0.04  ...  0.11   \n",
       "Class  -0.01 -0.10  0.09 -0.19  0.13 -0.09 -0.04 -0.19  0.02 -0.10  ...  0.04   \n",
       "\n",
       "         V22   V23   V24   V25   V26   V27   V28  Amount  Class  \n",
       "Time    0.14  0.05 -0.02 -0.23 -0.04 -0.01 -0.01   -0.01  -0.01  \n",
       "V1      0.00 -0.00 -0.00  0.00  0.00  0.00 -0.00   -0.23  -0.10  \n",
       "V2     -0.00 -0.00  0.00 -0.00 -0.00 -0.00  0.00   -0.53   0.09  \n",
       "V3     -0.00  0.00  0.00  0.00 -0.00 -0.00  0.00   -0.21  -0.19  \n",
       "V4      0.00 -0.00 -0.00  0.00 -0.00 -0.00 -0.00    0.10   0.13  \n",
       "V5      0.00  0.00 -0.00  0.00 -0.00 -0.00  0.00   -0.39  -0.09  \n",
       "V6     -0.00 -0.00  0.00 -0.00  0.00  0.00 -0.00    0.22  -0.04  \n",
       "V7     -0.00 -0.00 -0.00 -0.00 -0.00 -0.00  0.00    0.40  -0.19  \n",
       "V8     -0.00  0.00 -0.00 -0.00  0.00 -0.00  0.00   -0.10   0.02  \n",
       "V9     -0.00 -0.00  0.00 -0.00 -0.00  0.00 -0.00   -0.04  -0.10  \n",
       "V10    -0.00  0.00  0.00  0.00 -0.00  0.00  0.00   -0.10  -0.22  \n",
       "V11    -0.00  0.00 -0.00 -0.00  0.00 -0.00 -0.00    0.00   0.15  \n",
       "V12    -0.00 -0.00 -0.00  0.00  0.00  0.00 -0.00   -0.01  -0.26  \n",
       "V13    -0.00  0.00  0.00 -0.00 -0.00  0.00 -0.00    0.01  -0.00  \n",
       "V14     0.00  0.00 -0.00  0.00 -0.00 -0.00 -0.00    0.03  -0.30  \n",
       "V15    -0.00 -0.00 -0.00 -0.00  0.00 -0.00 -0.00   -0.00  -0.00  \n",
       "V16     0.00  0.00 -0.00  0.00 -0.00  0.00  0.00   -0.00  -0.20  \n",
       "V17     0.00 -0.00 -0.00  0.00  0.00 -0.00  0.00    0.01  -0.33  \n",
       "V18     0.00 -0.00  0.00  0.00 -0.00 -0.00  0.00    0.04  -0.11  \n",
       "V19     0.00 -0.00  0.00  0.00  0.00 -0.00  0.00   -0.06   0.03  \n",
       "V20     0.00 -0.00  0.00 -0.00  0.00 -0.00  0.00    0.34   0.02  \n",
       "V21    -0.00  0.00  0.00 -0.00  0.00 -0.00  0.00    0.11   0.04  \n",
       "V22     1.00 -0.00 -0.00  0.00 -0.00 -0.00  0.00   -0.06   0.00  \n",
       "V23    -0.00  1.00  0.00 -0.00 -0.00  0.00  0.00   -0.11  -0.00  \n",
       "V24    -0.00  0.00  1.00 -0.00  0.00  0.00  0.00    0.01  -0.01  \n",
       "V25     0.00 -0.00 -0.00  1.00  0.00 -0.00 -0.00   -0.05   0.00  \n",
       "V26    -0.00 -0.00  0.00  0.00  1.00  0.00 -0.00   -0.00   0.00  \n",
       "V27    -0.00  0.00  0.00 -0.00  0.00  1.00 -0.00    0.03   0.02  \n",
       "V28     0.00  0.00  0.00 -0.00 -0.00 -0.00  1.00    0.01   0.01  \n",
       "Amount -0.06 -0.11  0.01 -0.05 -0.00  0.03  0.01    1.00   0.01  \n",
       "Class   0.00 -0.00 -0.01  0.00  0.00  0.02  0.01    0.01   1.00  \n",
       "\n",
       "[31 rows x 31 columns]"
      ]
     },
     "execution_count": 16,
     "metadata": {},
     "output_type": "execute_result"
    }
   ],
   "source": [
    "corr = Datasets.corr()\n",
    "corr"
   ]
  },
  {
   "cell_type": "code",
   "execution_count": 17,
   "id": "recreational-satisfaction",
   "metadata": {},
   "outputs": [
    {
     "data": {
      "text/plain": [
       "<AxesSubplot:>"
      ]
     },
     "execution_count": 17,
     "metadata": {},
     "output_type": "execute_result"
    },
    {
     "data": {
      "image/png": "[encoded data removed]",
      "text/plain": [
       "<Figure size 1440x1080 with 2 Axes>"
      ]
     },
     "metadata": {
      "needs_background": "light"
     },
     "output_type": "display_data"
    }
   ],
   "source": [
    "plt.figure(figsize = (20,15))\n",
    "sb.heatmap(corr.round(2),  annot = True, cmap = \"coolwarm\", fmt = \"g\" )"
   ]
  },
  {
   "cell_type": "code",
   "execution_count": 18,
   "id": "national-thanks",
   "metadata": {},
   "outputs": [
    {
     "data": {
      "text/plain": [
       "Class     1.00\n",
       "V11       0.15\n",
       "V4        0.13\n",
       "V2        0.09\n",
       "V21       0.04\n",
       "V19       0.03\n",
       "V20       0.02\n",
       "V8        0.02\n",
       "V27       0.02\n",
       "V28       0.01\n",
       "Amount    0.01\n",
       "V26       0.00\n",
       "V25       0.00\n",
       "V22       0.00\n",
       "V23      -0.00\n",
       "V15      -0.00\n",
       "V13      -0.00\n",
       "V24      -0.01\n",
       "Time     -0.01\n",
       "V6       -0.04\n",
       "V5       -0.09\n",
       "V9       -0.10\n",
       "V1       -0.10\n",
       "V18      -0.11\n",
       "V7       -0.19\n",
       "V3       -0.19\n",
       "V16      -0.20\n",
       "V10      -0.22\n",
       "V12      -0.26\n",
       "V14      -0.30\n",
       "V17      -0.33\n",
       "Name: Class, dtype: float64"
      ]
     },
     "execution_count": 18,
     "metadata": {},
     "output_type": "execute_result"
    }
   ],
   "source": [
    "corr = corr[\"Class\"].sort_values(ascending = False)\n",
    "corr"
   ]
  },
  {
   "cell_type": "code",
   "execution_count": 19,
   "id": "fabulous-photographer",
   "metadata": {},
   "outputs": [],
   "source": [
    "#  Clearly, The The strongly correlated negative features at the bottom 5 and The top 3 correlated Features strongly suggest if a transaction is fraudulent or otherwise.\n",
    "\n",
    "#  I will be making emphasis to remove the outliers in these features using maximum zcore of 3 unit"
   ]
  },
  {
   "cell_type": "markdown",
   "id": "democratic-nicaragua",
   "metadata": {},
   "source": [
    "# Removing Outliers"
   ]
  },
  {
   "cell_type": "markdown",
   "id": "saving-kenya",
   "metadata": {},
   "source": [
    "I have to be very careful to remove the outliers in the original datsets to avoid massive data leakage and risk underfitting the model built on this data<br>\n",
    "for this reason, I will be focusing on the highly correlated features for the outliers removal"
   ]
  },
  {
   "cell_type": "code",
   "execution_count": null,
   "id": "cubic-hunger",
   "metadata": {},
   "outputs": [],
   "source": []
  },
  {
   "cell_type": "code",
   "execution_count": 20,
   "id": "prescribed-accommodation",
   "metadata": {},
   "outputs": [
    {
     "data": {
      "text/plain": [
       "V16   -0.20\n",
       "V10   -0.22\n",
       "V12   -0.26\n",
       "V14   -0.30\n",
       "V17   -0.33\n",
       "V11    0.15\n",
       "V4     0.13\n",
       "Name: Class, dtype: float64"
      ]
     },
     "execution_count": 20,
     "metadata": {},
     "output_type": "execute_result"
    }
   ],
   "source": [
    "\n",
    "Top5NegativeCorr = corr[-5:]\n",
    "Top2PositiveCorr = corr[1:3]\n",
    "\n",
    "TopCorr = Top5NegativeCorr.append(Top2PositiveCorr)\n",
    "TopCorr"
   ]
  },
  {
   "cell_type": "code",
   "execution_count": 21,
   "id": "collective-first",
   "metadata": {},
   "outputs": [],
   "source": [
    "from scipy.stats import zscore"
   ]
  },
  {
   "cell_type": "code",
   "execution_count": 22,
   "id": "needed-iraqi",
   "metadata": {},
   "outputs": [],
   "source": [
    "Data = Datasets.copy()  #  Keepind a copy of the datsets to visualize and compare the removal of outliers from the Datastes with removed outliers"
   ]
  },
  {
   "cell_type": "code",
   "execution_count": 23,
   "id": "graphic-cycle",
   "metadata": {},
   "outputs": [],
   "source": [
    "outliers = []\n",
    "for index in TopCorr.index:\n",
    "    score = np.abs(zscore(Data[index]))\n",
    "    outlier = Data[index][score>3]\n",
    "    outliers.append(outlier.index)\n",
    "    "
   ]
  },
  {
   "cell_type": "code",
   "execution_count": 24,
   "id": "mathematical-retention",
   "metadata": {},
   "outputs": [
    {
     "data": {
      "text/plain": [
       "[Int64Index([     2,     83,    282,    351,    608,    614,    637,    839,\n",
       "                997,   1078,\n",
       "             ...\n",
       "             283066, 283103, 283515, 283554, 284154, 284414, 284444, 284488,\n",
       "             284508, 284605],\n",
       "            dtype='int64', length=2077),\n",
       " Int64Index([    82,    146,    190,    225,    290,    362,    544,    559,\n",
       "                601,    673,\n",
       "             ...\n",
       "             284407, 284420, 284448, 284479, 284517, 284649, 284713, 284765,\n",
       "             284795, 284802],\n",
       "            dtype='int64', length=3488),\n",
       " Int64Index([  2951,   2954,   2957,   3994,   4010,   4018,   4027,   4034,\n",
       "               4052,   4069,\n",
       "             ...\n",
       "             279863, 280143, 281144, 282836, 282846, 282855, 282863, 282881,\n",
       "             282903, 284249],\n",
       "            dtype='int64', length=3393),\n",
       " Int64Index([   102,    108,    225,    362,    366,    418,    457,    458,\n",
       "                538,    541,\n",
       "             ...\n",
       "             284181, 284246, 284393, 284407, 284420, 284448, 284479, 284517,\n",
       "             284610, 284802],\n",
       "            dtype='int64', length=3380),\n",
       " Int64Index([   102,    108,    460,    472,    538,    541,    631,    643,\n",
       "                680,    691,\n",
       "             ...\n",
       "             282806, 282836, 282846, 282863, 282881, 282883, 282903, 282945,\n",
       "             283630, 284631],\n",
       "            dtype='int64', length=2515),\n",
       " Int64Index([   541,   1632,   2696,   4025,   4052,   4054,   4080,   4091,\n",
       "               4196,   4306,\n",
       "             ...\n",
       "             282496, 282531, 282806, 282836, 282846, 282863, 282881, 282903,\n",
       "             282919, 282998],\n",
       "            dtype='int64', length=684),\n",
       " Int64Index([    83,    351,    608,    858,   1632,   2043,   2386,   4018,\n",
       "               4684,   5339,\n",
       "             ...\n",
       "             284386, 284395, 284495, 284634, 284640, 284645, 284652, 284711,\n",
       "             284712, 284782],\n",
       "            dtype='int64', length=3094)]"
      ]
     },
     "execution_count": 24,
     "metadata": {},
     "output_type": "execute_result"
    }
   ],
   "source": [
    "outliers"
   ]
  },
  {
   "cell_type": "code",
   "execution_count": 25,
   "id": "forward-truck",
   "metadata": {},
   "outputs": [
    {
     "data": {
      "text/plain": [
       "array([     2,     83,    282, ..., 284711, 284712, 284782], dtype=int64)"
      ]
     },
     "execution_count": 25,
     "metadata": {},
     "output_type": "execute_result"
    }
   ],
   "source": [
    "All_Outliers = np.hstack(outliers)\n",
    "All_Outliers"
   ]
  },
  {
   "cell_type": "code",
   "execution_count": 26,
   "id": "working-barrel",
   "metadata": {},
   "outputs": [
    {
     "data": {
      "text/plain": [
       "0    271524\n",
       "1        61\n",
       "Name: Class, dtype: int64"
      ]
     },
     "execution_count": 26,
     "metadata": {},
     "output_type": "execute_result"
    }
   ],
   "source": [
    "new_df = Data.drop(All_Outliers)\n",
    "new_df[\"Class\"].value_counts()"
   ]
  },
  {
   "cell_type": "code",
   "execution_count": null,
   "id": "brief-paradise",
   "metadata": {},
   "outputs": [],
   "source": []
  },
  {
   "cell_type": "code",
   "execution_count": 27,
   "id": "chinese-mother",
   "metadata": {},
   "outputs": [
    {
     "data": {
      "image/png": "[encoded data removed]",
      "text/plain": [
       "<Figure size 2160x1080 with 14 Axes>"
      ]
     },
     "metadata": {
      "needs_background": "light"
     },
     "output_type": "display_data"
    }
   ],
   "source": [
    "fig, axes = plt.subplots(nrows = 2, ncols = 7, figsize = (24,12), dpi = 90)\n",
    "\n",
    "# Boxplot befor the removal of outliers\n",
    "\n",
    "\n",
    "sb.boxplot(x= \"Class\", y = \"V16\", ax = axes[0,0], data = Data)\n",
    "axes[0,0].set_title(\"V16 feature distribution \\n with the  class target \\n  before outliers removal\")\n",
    "\n",
    "sb.boxplot(x= \"Class\", y = \"V10\", ax = axes[0,1], data = Data)\n",
    "axes[0,1].set_title(\"V10 feature distribution \\n with the  class target \\n  before outliers removal\")\n",
    "\n",
    "\n",
    "sb.boxplot(x= \"Class\", y = \"V12\", ax = axes[0,2], data = Data)\n",
    "axes[0,2].set_title(\"V12 feature distribution \\n with the  class target \\n  before outliers removal\")\n",
    "\n",
    "sb.boxplot(x= \"Class\", y = \"V14\", ax = axes[0,3], data = Data)\n",
    "axes[0,3].set_title(\"V14 feature distribution \\n with the  class target \\n  before outliers removal\")\n",
    "\n",
    "sb.boxplot(x= \"Class\", y = \"V17\", ax = axes[0,4], data = Data)\n",
    "axes[0,4].set_title(\"V17 feature distribution \\n with the  class target \\n  before outliers removal\")\n",
    "\n",
    "sb.boxplot(x= \"Class\", y = \"V11\", ax = axes[0,5], data = Data)\n",
    "axes[0,5].set_title(\"V11 feature distribution \\n with the  class target \\n  before outliers removal\")\n",
    "\n",
    "sb.boxplot(x= \"Class\", y = \"V4\", ax = axes[0,6], data = Data)\n",
    "axes[0,6].set_title(\"V4 feature distribution \\n with the  class target \\n  before outliers removal\")\n",
    "\n",
    "\n",
    "#  Boxplots after the removal of outliers\n",
    "\n",
    "sb.boxplot(x= \"Class\", y = \"V16\", ax = axes[1,0], data = new_df)\n",
    "axes[1,0].set_title(\"V16 feature distribution \\n with the  class target \\n  after outliers removal\")\n",
    "\n",
    "sb.boxplot(x= \"Class\", y = \"V10\", ax = axes[1,1], data = new_df)\n",
    "axes[1,1].set_title(\"V10 feature distribution \\n with the  class target \\n  after outliers removal\")\n",
    "\n",
    "\n",
    "sb.boxplot(x= \"Class\", y = \"V12\", ax = axes[1,2], data = new_df)\n",
    "axes[1,2].set_title(\"V12 feature distribution \\n with the  class target \\n  after outliers removal\")\n",
    "\n",
    "sb.boxplot(x= \"Class\", y = \"V14\", ax = axes[1,3], data = new_df)\n",
    "axes[1,3].set_title(\"V14 feature distribution \\n with the  class target \\n  after outliers removal\")\n",
    "\n",
    "sb.boxplot(x= \"Class\", y = \"V17\", ax = axes[1,4], data = new_df)\n",
    "axes[1,4].set_title(\"V17 feature distribution \\n with the  class target \\n  after outliers removal\")\n",
    "\n",
    "sb.boxplot(x= \"Class\", y = \"V11\", ax = axes[1,5], data = new_df)\n",
    "axes[1,5].set_title(\"V11 feature distribution \\n with the  class target \\n  after outliers removal\")\n",
    "\n",
    "sb.boxplot(x= \"Class\", y = \"V4\", ax = axes[1,6], data = new_df)\n",
    "axes[1,6].set_title(\"V4 feature distribution \\n with the  class target \\n  after outliers removal\")\n",
    "\n",
    "\n",
    "\n",
    "\n",
    "plt.subplots_adjust(wspace= 0.4, hspace= 0.5 )\n",
    "\n",
    "\n"
   ]
  },
  {
   "cell_type": "code",
   "execution_count": null,
   "id": "cubic-compression",
   "metadata": {},
   "outputs": [],
   "source": []
  },
  {
   "cell_type": "markdown",
   "id": "moderate-north",
   "metadata": {},
   "source": [
    "#   A substantial data points in each of the selected columns have been removed as outliers as shown above."
   ]
  },
  {
   "cell_type": "code",
   "execution_count": 28,
   "id": "distributed-attraction",
   "metadata": {},
   "outputs": [],
   "source": [
    "#  There is need to move the zscore further to accomodae more data and remove the most extreme outliers\n",
    "# The zscore for the outliers after experimentation is set to 11 to avoid too much data leakage "
   ]
  },
  {
   "cell_type": "code",
   "execution_count": 29,
   "id": "addressed-wrapping",
   "metadata": {},
   "outputs": [],
   "source": [
    "outliers = []\n",
    "for index in TopCorr.index:\n",
    "    score = np.abs(zscore(Data[index]))\n",
    "    outlier = Data[index][score>11]\n",
    "    outliers.append(outlier.index)\n",
    "outliers = np.hstack(outliers)"
   ]
  },
  {
   "cell_type": "code",
   "execution_count": 30,
   "id": "musical-acquisition",
   "metadata": {},
   "outputs": [
    {
     "data": {
      "text/plain": [
       "0    284238\n",
       "1       300\n",
       "Name: Class, dtype: int64"
      ]
     },
     "execution_count": 30,
     "metadata": {},
     "output_type": "execute_result"
    }
   ],
   "source": [
    "new_df = Data.drop(outliers)\n",
    "new_df[\"Class\"].value_counts()"
   ]
  },
  {
   "cell_type": "code",
   "execution_count": 31,
   "id": "veterinary-registrar",
   "metadata": {},
   "outputs": [
    {
     "data": {
      "image/png": "[encoded data removed]",
      "text/plain": [
       "<Figure size 1280x960 with 6 Axes>"
      ]
     },
     "metadata": {
      "needs_background": "light"
     },
     "output_type": "display_data"
    }
   ],
   "source": [
    "fig, axes = plt.subplots(nrows = 2, ncols = 3, figsize = (16,12), dpi = 80)\n",
    "\n",
    "sb.boxplot(x= \"Class\", y = \"V16\", ax = axes[0,0], data = new_df)\n",
    "axes[0,0].set_title(\"V16 feature distribution \\n with the  class target \\n  after outliers removal\")\n",
    "\n",
    "sb.boxplot(x= \"Class\", y = \"V10\", ax = axes[0,1], data = new_df)\n",
    "axes[0,1].set_title(\"V10 feature distribution \\n with the  class target \\n  after outliers removal\")\n",
    "\n",
    "\n",
    "sb.boxplot(x= \"Class\", y = \"V12\", ax = axes[0,2], data = new_df)\n",
    "axes[0,2].set_title(\"V12 feature distribution \\n with the  class target \\n  after outliers removal\")\n",
    "\n",
    "sb.boxplot(x= \"Class\", y = \"V14\", ax = axes[1,0], data = new_df)\n",
    "axes[1,0].set_title(\"V14 feature distribution \\n with the  class target \\n  after outliers removal\")\n",
    "\n",
    "sb.boxplot(x= \"Class\", y = \"V17\", ax = axes[1,1], data = new_df)\n",
    "axes[1,1].set_title(\"V17 feature distribution \\n with the  class target \\n  after outliers removal\")\n",
    "\n",
    "sb.boxplot(x= \"Class\", y = \"V11\", ax = axes[1,2], data = new_df)\n",
    "axes[1,2].set_title(\"V11 feature distribution \\n with the  class target \\n  after outliers removal\")\n",
    "\n",
    "\n",
    "\n",
    "plt.subplots_adjust(wspace= 0.5, hspace= 0.5 )\n",
    "\n"
   ]
  },
  {
   "cell_type": "code",
   "execution_count": 32,
   "id": "intensive-auction",
   "metadata": {},
   "outputs": [
    {
     "data": {
      "text/plain": [
       "0    284238\n",
       "1       300\n",
       "Name: Class, dtype: int64"
      ]
     },
     "execution_count": 32,
     "metadata": {},
     "output_type": "execute_result"
    }
   ],
   "source": [
    "# Extreme outliers in the datasets are now removed preserving reasonable datapoints in the datsetets\n",
    "\n",
    "new_df[\"Class\"].value_counts()"
   ]
  },
  {
   "cell_type": "code",
   "execution_count": null,
   "id": "healthy-webster",
   "metadata": {},
   "outputs": [],
   "source": []
  },
  {
   "cell_type": "markdown",
   "id": "spanish-pocket",
   "metadata": {},
   "source": [
    "# Sampling of of the Imbalance Data"
   ]
  },
  {
   "cell_type": "code",
   "execution_count": 44,
   "id": "polar-religion",
   "metadata": {},
   "outputs": [],
   "source": [
    "\n",
    "import imblearn\n",
    "from sklearn.model_selection import train_test_split\n",
    "from imblearn.over_sampling import RandomOverSampler\n",
    "from imblearn.under_sampling import RandomUnderSampler\n",
    "from sklearn.model_selection import StratifiedKFold\n",
    "from sklearn.linear_model import LogisticRegression\n",
    "from sklearn.model_selection import train_test_split\n",
    "from sklearn.model_selection import KFold, cross_val_score, cross_val_predict\n",
    "from sklearn.tree import DecisionTreeClassifier\n",
    "from sklearn.svm import SVC\n",
    "from sklearn.neighbors import KNeighborsClassifier\n",
    "from sklearn.ensemble import RandomForestClassifier\n",
    "from sklearn.metrics import accuracy_score"
   ]
  },
  {
   "cell_type": "markdown",
   "id": "aboriginal-departure",
   "metadata": {},
   "source": [
    "# Oversampling the Minority Data"
   ]
  },
  {
   "cell_type": "code",
   "execution_count": 37,
   "id": "imposed-irrigation",
   "metadata": {},
   "outputs": [],
   "source": [
    "Oversample  = RandomOverSampler(sampling_strategy = \"minority\")\n",
    "X = new_df.drop(\"Class\", axis = 1)\n",
    "Y = new_df[\"Class\"]"
   ]
  },
  {
   "cell_type": "code",
   "execution_count": 38,
   "id": "indirect-leader",
   "metadata": {},
   "outputs": [],
   "source": [
    "Over_X, Over_Y = Oversample.fit_resample(X,Y)\n",
    "\n"
   ]
  },
  {
   "cell_type": "code",
   "execution_count": 39,
   "id": "usual-mailing",
   "metadata": {},
   "outputs": [
    {
     "data": {
      "text/plain": [
       "0    284238\n",
       "1    284238\n",
       "Name: Class, dtype: int64"
      ]
     },
     "execution_count": 39,
     "metadata": {},
     "output_type": "execute_result"
    }
   ],
   "source": [
    "Over_Y.value_counts()"
   ]
  },
  {
   "cell_type": "code",
   "execution_count": null,
   "id": "opposite-baltimore",
   "metadata": {},
   "outputs": [],
   "source": []
  },
  {
   "cell_type": "markdown",
   "id": "liquid-librarian",
   "metadata": {},
   "source": [
    "# I will be Using 5 classification algorithms to cross validate the data in 5 folds to get the best algorithm to use.\n",
    "1. Logistics Regression\n",
    "2. Knearest Neighbors\n",
    "3. Decision Tree\n",
    "4. Support Vector Machine Classifier\n",
    "5. Random forest Classifier\n"
   ]
  },
  {
   "cell_type": "code",
   "execution_count": null,
   "id": "lesser-surrey",
   "metadata": {},
   "outputs": [],
   "source": []
  },
  {
   "cell_type": "markdown",
   "id": "fifteen-generator",
   "metadata": {},
   "source": [
    "First we need to split the data into  train and validation set to see how the model is performing on Unseen data in each randomized folds.\n",
    "The average validation acuracy score of each folds for each algorithm is comapre to get the best performing model\n"
   ]
  },
  {
   "cell_type": "code",
   "execution_count": 40,
   "id": "flush-boxing",
   "metadata": {},
   "outputs": [
    {
     "data": {
      "text/plain": [
       "(((454780, 30), (113696, 30)), ((454780,), (113696,)))"
      ]
     },
     "execution_count": 40,
     "metadata": {},
     "output_type": "execute_result"
    }
   ],
   "source": [
    "X_Train_Over, X_Test_Over, Y_Train_Over, Y_Test_Over = train_test_split(Over_X, Over_Y, random_state = 42, test_size = 0.2, shuffle = True)\n",
    "(X_Train_Over.shape, X_Test_Over.shape), (Y_Train_Over.shape, Y_Test_Over.shape)"
   ]
  },
  {
   "cell_type": "markdown",
   "id": "advanced-range",
   "metadata": {},
   "source": [
    "Classifiers = {\n",
    "    \n",
    "    \"LogisticsRegression\": LogisticRegression(),\n",
    "    \n",
    "    \"Kneighbours\": KNeighborsClassifier(n_neighbors = 2),\n",
    "    \n",
    "    \"SupportVector\": SVC(),\n",
    "    \n",
    "    \"DecisionTree\" : DecisionTreeClassifier(max_depth = 4),\n",
    "    \n",
    "    \"RandomForest\" : RandomForestClassifier()\n",
    "    \n",
    "    }\n",
    "score = []\n",
    "for name,  classifier in Classifiers.items():\n",
    "    n_folds = KFold(n_splits = 10, shuffle = True, random_state = 42)\n",
    "    cv_score = cross_val_score(classifier, X_Train_Over, Y_Train_Over, cv = n_folds, scoring = \"accuracy\")\n",
    "    score.append(cv_score)\n",
    "    print(f\"{name} accuracy is: {np.mean(score)}\")\n",
    "    print()"
   ]
  },
  {
   "cell_type": "code",
   "execution_count": 62,
   "id": "quarterly-waterproof",
   "metadata": {},
   "outputs": [],
   "source": []
  },
  {
   "cell_type": "code",
   "execution_count": 63,
   "id": "interior-fitting",
   "metadata": {},
   "outputs": [],
   "source": [
    "# Logistics egression outperform other Algorithm\n",
    "\n",
    "# Implementing StratifiedKfolds on the algorithm to better get the performance on the validation on 5 folds."
   ]
  },
  {
   "cell_type": "code",
   "execution_count": 42,
   "id": "regulated-sullivan",
   "metadata": {},
   "outputs": [],
   "source": [
    "folds = StratifiedKFold(n_splits = 3, shuffle = True, random_state = 42)"
   ]
  },
  {
   "cell_type": "code",
   "execution_count": 45,
   "id": "fifty-navigation",
   "metadata": {},
   "outputs": [
    {
     "name": "stdout",
     "output_type": "stream",
     "text": [
      "fold 1: accuracy: 0.93\n",
      "\n",
      "fold 2: accuracy: 0.93\n",
      "\n",
      "fold 3: accuracy: 0.93\n",
      "\n",
      " Average Validation accuracy: 0.9294816315904278\n"
     ]
    }
   ],
   "source": [
    "score = 0\n",
    "Accuracy = []\n",
    "for fold, (train_index, test_index) in enumerate(folds.split(Over_X, Over_Y)):\n",
    "    #print(Train_index, Test_index)\n",
    "    Fold_X_Train = Over_X.iloc[train_index]\n",
    "    Fold_Y_Train = Over_Y[train_index]\n",
    "    Fold_X_Test = Over_X.iloc[test_index]\n",
    "    Fold_Y_Test = Over_Y[test_index]\n",
    "    \n",
    "    log = LogisticRegression(n_jobs = -1)\n",
    "    log.fit(Fold_X_Train, Fold_Y_Train)\n",
    "    pred = log.predict(Fold_X_Test)\n",
    "    accuracy = accuracy_score(Fold_Y_Test, pred)\n",
    "    score+= log.score(Fold_X_Test, Fold_Y_Test)\n",
    "    Accuracy.append(accuracy)\n",
    "    print(f\"fold {fold+1}: accuracy: {accuracy.round(2)}\")\n",
    "    print()\n",
    "    \n",
    "    \n",
    "#print(score/folds.n_splits)\n",
    "print(f\" Average Validation accuracy: {np.mean(Accuracy)}\")\n",
    "\n",
    "    \n",
    "    \n",
    "    "
   ]
  },
  {
   "cell_type": "markdown",
   "id": "fixed-michigan",
   "metadata": {},
   "source": [
    "# Oversample Data Reached an average validation accuracy of 92.9% "
   ]
  },
  {
   "cell_type": "code",
   "execution_count": null,
   "id": "sublime-buddy",
   "metadata": {},
   "outputs": [],
   "source": []
  },
  {
   "cell_type": "markdown",
   "id": "spare-integrity",
   "metadata": {},
   "source": [
    "#  Undersampling the data"
   ]
  },
  {
   "cell_type": "code",
   "execution_count": 56,
   "id": "helpful-saudi",
   "metadata": {},
   "outputs": [],
   "source": [
    "UnderSample = RandomUnderSampler(sampling_strategy = \"majority\")\n",
    "Under_X, Under_Y = UnderSample.fit_resample(X, Y)"
   ]
  },
  {
   "cell_type": "code",
   "execution_count": 57,
   "id": "progressive-structure",
   "metadata": {},
   "outputs": [
    {
     "data": {
      "text/plain": [
       "0    300\n",
       "1    300\n",
       "Name: Class, dtype: int64"
      ]
     },
     "execution_count": 57,
     "metadata": {},
     "output_type": "execute_result"
    }
   ],
   "source": [
    "Under_Y.value_counts()"
   ]
  },
  {
   "cell_type": "code",
   "execution_count": 68,
   "id": "personal-approach",
   "metadata": {},
   "outputs": [],
   "source": [
    "X_Train_Under, X_Test_Under, Y_Train_Under, Y_Test_Under = train_test_split(Under_X, Under_Y, random_state = 100, test_size = 0.1, shuffle = True)\n"
   ]
  },
  {
   "cell_type": "code",
   "execution_count": 69,
   "id": "horizontal-throat",
   "metadata": {},
   "outputs": [
    {
     "name": "stdout",
     "output_type": "stream",
     "text": [
      "LogisticsRegression accuracy is: 0.9018518518518519\n",
      "\n",
      "Kneighbours accuracy is: 0.9\n",
      "\n",
      "SupportVector accuracy is: 0.9024691358024691\n",
      "\n",
      "DecisionTree accuracy is: 0.8949074074074074\n",
      "\n",
      "RandomForest accuracy is: 0.8977777777777777\n",
      "\n"
     ]
    }
   ],
   "source": [
    "Classifiers = {\n",
    "    \n",
    "    \"LogisticsRegression\": LogisticRegression(n_jobs = -1 ),\n",
    "    \n",
    "    \"Kneighbours\": KNeighborsClassifier(n_neighbors = 2),\n",
    "    \n",
    "    \"SupportVector\": SVC(),\n",
    "    \n",
    "    \"DecisionTree\" : DecisionTreeClassifier(max_depth = 4),\n",
    "    \n",
    "    \"RandomForest\" : RandomForestClassifier()\n",
    "    \n",
    "    }\n",
    "score = []\n",
    "for name,  classifier in Classifiers.items():\n",
    "    n_folds = KFold(n_splits = 3, shuffle = True, random_state = 42)\n",
    "    cv_score = cross_val_score(classifier, X_Train_Under, Y_Train_Under, cv = folds, scoring = \"accuracy\")\n",
    "    score.append(cv_score)\n",
    "    print(f\"{name} accuracy is: {np.mean(score)}\")\n",
    "    print()\n",
    "\n",
    "    \n",
    "    "
   ]
  },
  {
   "cell_type": "code",
   "execution_count": 61,
   "id": "determined-resource",
   "metadata": {},
   "outputs": [],
   "source": [
    "#  Logistics regression outperform other classifiers"
   ]
  },
  {
   "cell_type": "code",
   "execution_count": 70,
   "id": "every-belief",
   "metadata": {},
   "outputs": [
    {
     "name": "stdout",
     "output_type": "stream",
     "text": [
      "fold 1: accuracy: 0.9\n",
      "\n",
      "fold 2: accuracy: 0.96\n",
      "\n",
      "fold 3: accuracy: 0.9\n",
      "\n",
      "Average cross validation scrore: 0.92\n"
     ]
    }
   ],
   "source": [
    "score = 0\n",
    "Accuracy = []\n",
    "for fold, (train_index, test_index) in enumerate(folds.split(Under_X, Under_Y)):\n",
    "    #print(Train_index, Test_index)\n",
    "    Fold_X_Train = Under_X.iloc[train_index]\n",
    "    Fold_Y_Train = Under_Y[train_index]\n",
    "    Fold_X_Test = Under_X.iloc[test_index]\n",
    "    Fold_Y_Test = Under_Y[test_index]\n",
    "    \n",
    "    Log = LogisticRegression(n_jobs = -1 )\n",
    "    Log.fit(Fold_X_Train, Fold_Y_Train)\n",
    "    pred = Log.predict(Fold_X_Test)\n",
    "    accuracy = accuracy_score(Fold_Y_Test, pred)\n",
    "    score+= Log.score(Fold_X_Test, Fold_Y_Test)\n",
    "    Accuracy.append(accuracy)\n",
    "    print(f\"fold {fold+1}: accuracy: {accuracy.round(2)}\")\n",
    "    print()\n",
    "    \n",
    "    \n",
    "#print(score/folds.n_splits)\n",
    "print(f\"Average cross validation scrore: {np.mean(Accuracy).round(2)}\")"
   ]
  },
  {
   "cell_type": "markdown",
   "id": "checked-subcommittee",
   "metadata": {},
   "source": [
    "The Logistics regression performs very well on the each folds validation reaching as high as 92% in 4 folds"
   ]
  },
  {
   "cell_type": "code",
   "execution_count": 71,
   "id": "large-software",
   "metadata": {},
   "outputs": [],
   "source": [
    "from sklearn.metrics import confusion_matrix"
   ]
  },
  {
   "cell_type": "code",
   "execution_count": 72,
   "id": "wooden-bacteria",
   "metadata": {},
   "outputs": [
    {
     "data": {
      "text/plain": [
       "LogisticRegression(n_jobs=-1)"
      ]
     },
     "execution_count": 72,
     "metadata": {},
     "output_type": "execute_result"
    }
   ],
   "source": [
    "#Training the model on the training set\n",
    "LogR = LogisticRegression(n_jobs = -1)\n",
    "LogR.fit(X_Train_Under, Y_Train_Under)"
   ]
  },
  {
   "cell_type": "code",
   "execution_count": 74,
   "id": "clean-digit",
   "metadata": {},
   "outputs": [],
   "source": [
    "Under_pred = LogR.predict(X_Test_Under)"
   ]
  },
  {
   "cell_type": "code",
   "execution_count": 75,
   "id": "continuous-motion",
   "metadata": {},
   "outputs": [],
   "source": [
    "cm = confusion_matrix(Y_Test_Under, Under_pred)"
   ]
  },
  {
   "cell_type": "markdown",
   "id": "handed-morning",
   "metadata": {},
   "source": [
    "# # Performace on Test Set"
   ]
  },
  {
   "cell_type": "code",
   "execution_count": 77,
   "id": "happy-punch",
   "metadata": {},
   "outputs": [
    {
     "data": {
      "text/plain": [
       "0.9"
      ]
     },
     "execution_count": 77,
     "metadata": {},
     "output_type": "execute_result"
    }
   ],
   "source": [
    "accuracy_score(Y_Test_Under, pred)  #  93.3% on the test set"
   ]
  },
  {
   "cell_type": "markdown",
   "id": "changing-enemy",
   "metadata": {},
   "source": [
    "For A fraud detection Problems, we care more about the alogorithms making less false Positive,  i.e Fraudulent Transaction mistakenly classified as non fraudulents.\n",
    "\n",
    "We have 3 fruadulent transaction mistakenly classified as fraudulent trasaction.\n",
    "\n",
    "The algorithm with the True Negative (Non Fraudulent transacton) are 34 misclassifying it as Fraudulent only one time.\n",
    "\n",
    "The Algorithm is doing well generally on the test data based on the visuals from the confusion matrix"
   ]
  },
  {
   "cell_type": "code",
   "execution_count": 78,
   "id": "exceptional-graph",
   "metadata": {},
   "outputs": [
    {
     "data": {
      "text/plain": [
       "Text(0.5, 1.0, 'Logistics Regression Classifier \\n confusion matrix')"
      ]
     },
     "execution_count": 78,
     "metadata": {},
     "output_type": "execute_result"
    },
    {
     "data": {
      "image/png": "[encoded data removed]",
      "text/plain": [
       "<Figure size 432x288 with 2 Axes>"
      ]
     },
     "metadata": {
      "needs_background": "light"
     },
     "output_type": "display_data"
    }
   ],
   "source": [
    "sb.heatmap(cm, annot = True, cmap = plt.cm.copper, fmt = \"g\")\n",
    "plt.title(\"Logistics Regression Classifier \\n confusion matrix\", size = 14)\n"
   ]
  },
  {
   "cell_type": "code",
   "execution_count": 90,
   "id": "chubby-vitamin",
   "metadata": {},
   "outputs": [],
   "source": [
    "from sklearn.metrics import precision_recall_curve, roc_curve, classification_report\n"
   ]
  },
  {
   "cell_type": "code",
   "execution_count": 91,
   "id": "likely-aquatic",
   "metadata": {},
   "outputs": [
    {
     "name": "stdout",
     "output_type": "stream",
     "text": [
      "              precision    recall  f1-score   support\n",
      "\n",
      "           0       0.89      0.97      0.93        35\n",
      "           1       0.95      0.84      0.89        25\n",
      "\n",
      "    accuracy                           0.92        60\n",
      "   macro avg       0.92      0.91      0.91        60\n",
      "weighted avg       0.92      0.92      0.92        60\n",
      "\n"
     ]
    },
    {
     "data": {
      "text/plain": [
       "'recall of 0.88 for Fraud Transaction (class 1) is a big plus in detecting actual fraud transaction.\\nthe overall f1score of 0.93 also shows positivity in detectung fraud in the datasets.'"
      ]
     },
     "execution_count": 91,
     "metadata": {},
     "output_type": "execute_result"
    }
   ],
   "source": [
    "print(classification_report(Y_Test, pred))\n",
    "\n",
    "'''recall of 0.88 for Fraud Transaction (class 1) is a big plus in detecting actual fraud transaction.\n",
    "the overall f1score of 0.93 also shows positivity in detectung fraud in the datasets.'''"
   ]
  },
  {
   "cell_type": "code",
   "execution_count": null,
   "id": "tested-windows",
   "metadata": {},
   "outputs": [],
   "source": []
  },
  {
   "cell_type": "markdown",
   "id": "parallel-aviation",
   "metadata": {},
   "source": [
    "# Visualizing Metrics for the Over_Sample Data"
   ]
  },
  {
   "cell_type": "code",
   "execution_count": 79,
   "id": "reverse-triangle",
   "metadata": {},
   "outputs": [],
   "source": [
    "X_Train_Over, X_Test_Over, Y_Train_Over, Y_Test_Over = train_test_split(Over_X, Over_Y)"
   ]
  },
  {
   "cell_type": "code",
   "execution_count": 80,
   "id": "organic-headquarters",
   "metadata": {},
   "outputs": [
    {
     "data": {
      "text/plain": [
       "LogisticRegression(n_jobs=-1)"
      ]
     },
     "execution_count": 80,
     "metadata": {},
     "output_type": "execute_result"
    }
   ],
   "source": [
    "LogOver = LogisticRegression(n_jobs = -1)\n",
    "LogOver.fit(X_Train_Over, Y_Train_Over)"
   ]
  },
  {
   "cell_type": "code",
   "execution_count": null,
   "id": "damaged-victorian",
   "metadata": {},
   "outputs": [],
   "source": []
  },
  {
   "cell_type": "markdown",
   "id": "transsexual-apartment",
   "metadata": {},
   "source": [
    "KNN_precision, KNN_recall, KNN_Threshold = precision_recall_curve(Y_Train_Over, KNN_Score)"
   ]
  },
  {
   "cell_type": "code",
   "execution_count": 125,
   "id": "abandoned-locking",
   "metadata": {},
   "outputs": [
    {
     "data": {
      "text/plain": [
       "0.9290453774653635"
      ]
     },
     "execution_count": 125,
     "metadata": {},
     "output_type": "execute_result"
    }
   ],
   "source": [
    "LogOver.score(X_Test_Over, Y_Test_Over)"
   ]
  },
  {
   "cell_type": "code",
   "execution_count": 130,
   "id": "induced-packaging",
   "metadata": {},
   "outputs": [],
   "source": [
    "LogOver_pred = LogOver.predict(X_Test_Over)"
   ]
  },
  {
   "cell_type": "code",
   "execution_count": 138,
   "id": "sixth-share",
   "metadata": {},
   "outputs": [
    {
     "data": {
      "text/plain": [
       "<AxesSubplot:>"
      ]
     },
     "execution_count": 138,
     "metadata": {},
     "output_type": "execute_result"
    },
    {
     "data": {
      "image/png": "[encoded data removed]",
      "text/plain": [
       "<Figure size 432x288 with 2 Axes>"
      ]
     },
     "metadata": {
      "needs_background": "light"
     },
     "output_type": "display_data"
    }
   ],
   "source": [
    "sb.heatmap(confusion_matrix(Y_Test_Over, LogOver_pred), annot = True, cmap = plt.cm.copper, fmt = \"g\")\n",
    "\n"
   ]
  },
  {
   "cell_type": "code",
   "execution_count": 140,
   "id": "elegant-department",
   "metadata": {},
   "outputs": [
    {
     "name": "stdout",
     "output_type": "stream",
     "text": [
      "              precision    recall  f1-score   support\n",
      "\n",
      "           0       0.90      0.96      0.93     71062\n",
      "           1       0.96      0.90      0.93     71057\n",
      "\n",
      "    accuracy                           0.93    142119\n",
      "   macro avg       0.93      0.93      0.93    142119\n",
      "weighted avg       0.93      0.93      0.93    142119\n",
      "\n"
     ]
    }
   ],
   "source": [
    "print(classification_report(Y_Test_Over, LogOver_pred))\n"
   ]
  },
  {
   "cell_type": "markdown",
   "id": "logical-investing",
   "metadata": {},
   "source": [
    "Because of massive duplication of data, A lot of false Positive and negative are recoreded for both Fraudulent and  non Fraudulent Transactions\n",
    "Classification reports. <br> on the other hand, a higher precision for both cass at 90% and 96% respectively.\n",
    "\n",
    "However, The recall fall to 90% for the Positive class\n",
    "\n",
    "F1score of 93% sows good prospect for the algorithm performance"
   ]
  },
  {
   "cell_type": "code",
   "execution_count": null,
   "id": "convinced-spanking",
   "metadata": {},
   "outputs": [],
   "source": [
    "Score_Over = cross_val_predict(LogOver, X_Train_Over, Y_Train_Over, cv = 10, method = \"decision_function\")"
   ]
  },
  {
   "cell_type": "code",
   "execution_count": 1402,
   "id": "adjacent-architecture",
   "metadata": {},
   "outputs": [],
   "source": [
    "precision, recall, threshold = precision_recall_curve(Y_Train_Over, score)"
   ]
  },
  {
   "cell_type": "code",
   "execution_count": 1410,
   "id": "professional-rehabilitation",
   "metadata": {},
   "outputs": [
    {
     "data": {
      "text/plain": [
       "Text(0.5, 1.0, 'Precision recall Curve')"
      ]
     },
     "execution_count": 1410,
     "metadata": {},
     "output_type": "execute_result"
    },
    {
     "data": {
      "image/png": "[encoded data removed]",
      "text/plain": [
       "<Figure size 864x576 with 1 Axes>"
      ]
     },
     "metadata": {
      "needs_background": "light"
     },
     "output_type": "display_data"
    }
   ],
   "source": [
    "plt.figure(figsize = (12,8))\n",
    "plt.plot(precision, recall)\n",
    "plt.xlabel(\"Precision\", size = 15)\n",
    "plt.ylabel(\"recall\", size = 15)\n",
    "plt.title(\"Precision recall Curve\", size = 18)"
   ]
  },
  {
   "cell_type": "markdown",
   "id": "spiritual-minority",
   "metadata": {},
   "source": [
    "The Racall steeply start decaying when the precision is above 90%."
   ]
  },
  {
   "cell_type": "markdown",
   "id": "innocent-number",
   "metadata": {},
   "source": [
    "#  ROC Curve"
   ]
  },
  {
   "cell_type": "code",
   "execution_count": 1414,
   "id": "innocent-adrian",
   "metadata": {},
   "outputs": [],
   "source": [
    "fpr, tpr, threshholds = roc_curve(Y_Train_Over, score)"
   ]
  },
  {
   "cell_type": "code",
   "execution_count": 1444,
   "id": "royal-jonathan",
   "metadata": {},
   "outputs": [
    {
     "data": {
      "text/plain": [
       "([<matplotlib.axis.YTick at 0x23f09e0d5c8>,\n",
       "  <matplotlib.axis.YTick at 0x23f09e08408>,\n",
       "  <matplotlib.axis.YTick at 0x23f09e03f48>,\n",
       "  <matplotlib.axis.YTick at 0x23f1b639a88>,\n",
       "  <matplotlib.axis.YTick at 0x23f1b63d448>,\n",
       "  <matplotlib.axis.YTick at 0x23f1b63df88>,\n",
       "  <matplotlib.axis.YTick at 0x23f1b63fc48>,\n",
       "  <matplotlib.axis.YTick at 0x23f1b643848>,\n",
       "  <matplotlib.axis.YTick at 0x23f1b647448>,\n",
       "  <matplotlib.axis.YTick at 0x23f1b647f48>],\n",
       " [Text(0, 0, ''),\n",
       "  Text(0, 0, ''),\n",
       "  Text(0, 0, ''),\n",
       "  Text(0, 0, ''),\n",
       "  Text(0, 0, ''),\n",
       "  Text(0, 0, ''),\n",
       "  Text(0, 0, ''),\n",
       "  Text(0, 0, ''),\n",
       "  Text(0, 0, ''),\n",
       "  Text(0, 0, '')])"
      ]
     },
     "execution_count": 1444,
     "metadata": {},
     "output_type": "execute_result"
    },
    {
     "data": {
      "image/png": "[encoded data removed]",
      "text/plain": [
       "<Figure size 864x576 with 1 Axes>"
      ]
     },
     "metadata": {
      "needs_background": "light"
     },
     "output_type": "display_data"
    }
   ],
   "source": [
    "plt.figure(figsize = (12,8))\n",
    "plt.xlabel(\"False Positive Rate \", size = 15)\n",
    "plt.ylabel(\"True Positive Rate\", size = 15)\n",
    "plt.plot(fpr, tpr)\n",
    "plt.plot([0,1],[0,1])\n",
    "plt.yticks(np.linspace(0.1,1.0,10))\n",
    "#plt.grid()"
   ]
  },
  {
   "cell_type": "code",
   "execution_count": null,
   "id": "isolated-customs",
   "metadata": {},
   "outputs": [],
   "source": []
  },
  {
   "cell_type": "code",
   "execution_count": 104,
   "id": "disciplinary-relief",
   "metadata": {},
   "outputs": [],
   "source": [
    "Output = {\"Oversample\": [10],\n",
    "         \"Undersample\": [5]}"
   ]
  },
  {
   "cell_type": "code",
   "execution_count": 105,
   "id": "fitting-hacker",
   "metadata": {},
   "outputs": [
    {
     "data": {
      "text/html": [
       "<div>\n",
       "<style scoped>\n",
       "    .dataframe tbody tr th:only-of-type {\n",
       "        vertical-align: middle;\n",
       "    }\n",
       "\n",
       "    .dataframe tbody tr th {\n",
       "        vertical-align: top;\n",
       "    }\n",
       "\n",
       "    .dataframe thead th {\n",
       "        text-align: right;\n",
       "    }\n",
       "</style>\n",
       "<table border=\"1\" class=\"dataframe\">\n",
       "  <thead>\n",
       "    <tr style=\"text-align: right;\">\n",
       "      <th></th>\n",
       "      <th>Oversample</th>\n",
       "      <th>Undersample</th>\n",
       "    </tr>\n",
       "  </thead>\n",
       "  <tbody>\n",
       "    <tr>\n",
       "      <th>0</th>\n",
       "      <td>10</td>\n",
       "      <td>5</td>\n",
       "    </tr>\n",
       "  </tbody>\n",
       "</table>\n",
       "</div>"
      ],
      "text/plain": [
       "   Oversample  Undersample\n",
       "0          10            5"
      ]
     },
     "execution_count": 105,
     "metadata": {},
     "output_type": "execute_result"
    }
   ],
   "source": [
    "pd.DataFrame(Output)"
   ]
  },
  {
   "cell_type": "code",
   "execution_count": null,
   "id": "daily-merchandise",
   "metadata": {},
   "outputs": [],
   "source": []
  }
 ],
 "metadata": {
  "kernelspec": {
   "display_name": "Python 3",
   "language": "python",
   "name": "python3"
  },
  "language_info": {
   "codemirror_mode": {
    "name": "ipython",
    "version": 3
   },
   "file_extension": ".py",
   "mimetype": "text/x-python",
   "name": "python",
   "nbconvert_exporter": "python",
   "pygments_lexer": "ipython3",
   "version": "3.7.9"
  }
 },
 "nbformat": 4,
 "nbformat_minor": 5
}
